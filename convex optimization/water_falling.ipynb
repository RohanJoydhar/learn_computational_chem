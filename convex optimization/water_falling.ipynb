{
 "cells": [
  {
   "cell_type": "markdown",
   "metadata": {},
   "source": [
    "The water-filling problem is a classic optimization problem in communication theory, often used for allocating power in a communication system with multiple parallel channels. It's named because the solution resembles the process of pouring water into containers of different sizes, where the height of water corresponds to the power allocated to each channel."
   ]
  },
  {
   "cell_type": "markdown",
   "metadata": {},
   "source": [
    "The solution to this problem can be found using KKT (Karush-Kuhn-Tucker) conditions or through the water-filling algorithm."
   ]
  },
  {
   "cell_type": "code",
   "execution_count": 4,
   "metadata": {},
   "outputs": [],
   "source": [
    "import cvxpy as cp\n",
    "import numpy as np\n",
    "import warnings\n",
    "warnings.filterwarnings(\"ignore\")"
   ]
  },
  {
   "cell_type": "code",
   "execution_count": 2,
   "metadata": {},
   "outputs": [],
   "source": [
    "# Number of channels\n",
    "n = 5\n",
    "\n",
    "# Channel gains (these can be any positive numbers)\n",
    "h = np.array([0.9, 0.5, 0.2, 0.1, 0.05])\n",
    "\n",
    "# Total available power\n",
    "P_total = 10"
   ]
  },
  {
   "cell_type": "code",
   "execution_count": 5,
   "metadata": {},
   "outputs": [],
   "source": [
    "# Power allocated to each channel (the optimization variable)\n",
    "p = cp.Variable(n)\n",
    "\n",
    "# Objective: Maximize the sum of log(1 + h_i * p_i)\n",
    "objective = cp.Maximize(cp.sum(cp.log(1 + h * p)))\n",
    "\n",
    "# Constraints: Sum of allocated powers <= P_total, and each p_i >= 0\n",
    "constraints = [cp.sum(p) <= P_total, p >= 0]"
   ]
  },
  {
   "cell_type": "code",
   "execution_count": 6,
   "metadata": {},
   "outputs": [
    {
     "data": {
      "text/plain": [
       "2.3025850876225777"
      ]
     },
     "execution_count": 6,
     "metadata": {},
     "output_type": "execute_result"
    }
   ],
   "source": [
    "# Problem definition\n",
    "problem = cp.Problem(objective, constraints)\n",
    "\n",
    "# Solve the problem\n",
    "problem.solve()"
   ]
  },
  {
   "cell_type": "code",
   "execution_count": 7,
   "metadata": {},
   "outputs": [
    {
     "name": "stdout",
     "output_type": "stream",
     "text": [
      "Optimal power allocation: [9.99999992e+00 2.51981246e-08 1.41670249e-08 1.23400968e-08\n",
      " 1.15878007e-08]\n",
      "Maximum sum rate: 2.3025850876225777\n"
     ]
    }
   ],
   "source": [
    "# Print the results\n",
    "print(f\"Optimal power allocation: {p.value}\")\n",
    "print(f\"Maximum sum rate: {problem.value}\")"
   ]
  }
 ],
 "metadata": {
  "kernelspec": {
   "display_name": "Python 3",
   "language": "python",
   "name": "python3"
  },
  "language_info": {
   "codemirror_mode": {
    "name": "ipython",
    "version": 3
   },
   "file_extension": ".py",
   "mimetype": "text/x-python",
   "name": "python",
   "nbconvert_exporter": "python",
   "pygments_lexer": "ipython3",
   "version": "3.12.4"
  }
 },
 "nbformat": 4,
 "nbformat_minor": 2
}
