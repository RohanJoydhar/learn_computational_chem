{
 "cells": [
  {
   "cell_type": "markdown",
   "metadata": {},
   "source": [
    "# Convex Optimization Problem: Traveling Salesman Problem (TSP)\n",
    "- The objective is to minimize the total distance a salesperson must travel to visit all points (cities) exactly once and return to the starting point. This is done using integer programming techniques with binary decision variables.\n",
    "- The cost function for this Traveling Salesman Problem (TSP) is designed to minimize the total distance traveled by the salesperson. This is represented as the sum of the distances between each pair of points (cities) that the salesperson chooses to visit consecutively."
   ]
  },
  {
   "cell_type": "code",
   "execution_count": 1,
   "metadata": {},
   "outputs": [],
   "source": [
    "import numpy as np\n",
    "import pandas as pd\n",
    "import matplotlib.pyplot as plt\n",
    "import cvxpy as cp\n",
    "from geopy import distance"
   ]
  },
  {
   "cell_type": "markdown",
   "metadata": {},
   "source": [
    "Defining the coordinates of seven points (O, A, B, C, D, E, F) in the format (latitude, longitude)."
   ]
  },
  {
   "cell_type": "code",
   "execution_count": 2,
   "metadata": {},
   "outputs": [],
   "source": [
    "# Original Data\n",
    "points = [(-12.059296, -76.975893), #origin O\n",
    "          (-12.079575, -77.009686), #Point A\n",
    "          (-12.087303, -76.996620), #Point B\n",
    "          (-12.084391, -76.975651), #Point C\n",
    "          (-12.063603, -76.960483), #Point D\n",
    "          (-12.056762, -77.014452), #Point E\n",
    "          (-12.011531, -77.002383)] #Point F"
   ]
  },
  {
   "cell_type": "markdown",
   "metadata": {},
   "source": [
    "The matrix C stores the distances between every pair of points (cities). These distances are computed using the geopy.distance function, which calculates the geographical distance (in kilometers) between two points given their latitude and longitude."
   ]
  },
  {
   "cell_type": "code",
   "execution_count": 3,
   "metadata": {},
   "outputs": [
    {
     "name": "stdout",
     "output_type": "stream",
     "text": [
      "Distance Matrix is:\n",
      "\n",
      "[[0.     4.3092 3.8329 2.7762 1.7441 4.2076 6.0199]\n",
      " [4.3092 0.     1.6596 3.7435 5.6408 2.5764 7.5691]\n",
      " [3.8329 1.6596 0.     2.3055 4.7278 3.8966 8.4056]\n",
      " [2.7762 3.7435 2.3055 0.     2.8311 5.2142 8.5694]\n",
      " [1.7441 5.6408 4.7278 2.8311 0.     5.9246 7.3483]\n",
      " [4.2076 2.5764 3.8966 5.2142 5.9246 0.     5.1733]\n",
      " [6.0199 7.5691 8.4056 8.5694 7.3483 5.1733 0.    ]]\n"
     ]
    }
   ],
   "source": [
    "# Building distance matrix\n",
    "n = len(points)\n",
    "#Initializing the distance matrix C of size n x n (where n is the number of points\n",
    "C = np.zeros((n,n))\n",
    "for i in range(0, n):\n",
    "    for j in range(0, len(points)):\n",
    "        #Filling matrix with the pairwise distances between all points using the geopy.distance function.\n",
    "        C[i,j] = distance.distance(points[i], points[j]).km\n",
    "\n",
    "# Showing distance matrix\n",
    "print('Distance Matrix is:\\n')\n",
    "print(np.round(C,4))"
   ]
  },
  {
   "cell_type": "markdown",
   "metadata": {},
   "source": [
    "X: This is a binary decision variable matrix of shape n x n, where:\n",
    "- X[i,j]=1 if the salesperson travels directly from point i to point j.\n",
    "- X[i,j]=0 otherwise.\n",
    "- The decision variables represent whether or not a specific connection between two points is chosen.\n",
    "\n",
    "u: This is an integer variable used to eliminate subtours (subsequences of nodes that are visited separately from the main tour). The u variables represent the order in which the points are visited."
   ]
  },
  {
   "cell_type": "code",
   "execution_count": 4,
   "metadata": {},
   "outputs": [],
   "source": [
    "# Defining variables\n",
    "#Defining the decision variable X, a binary matrix that represents whether there is a connection between points i and j.\n",
    "X = cp.Variable(C.shape, boolean=True)\n",
    "#Defining u, a vector of integers used for eliminating subtours in the optimization.\n",
    "u = cp.Variable(n, integer=True)\n",
    "#Creating a column vector ones of size n x 1, used to define constraints.\n",
    "ones = np.ones((n,1))"
   ]
  },
  {
   "cell_type": "markdown",
   "metadata": {},
   "source": [
    "The objective function minimizes the total travel distance.\n",
    "- C[i,j] gives the distance between point i and point j.\n",
    "- X[i,j] is the decision variable indicating whether the salesperson travels directly from point i to point j.\n",
    "\n",
    "The product C[i,j] * X[i,j] represents the contribution of that specific connection (if selected) to the total travel distance. The total cost (distance) is computed as the sum of these contributions.\n",
    "\n",
    "cp.multiply(C, X) performs element-wise multiplication between the distance matrix and the decision variable matrix, and cp.sum() sums these products to compute the total travel distance."
   ]
  },
  {
   "cell_type": "code",
   "execution_count": 5,
   "metadata": {},
   "outputs": [],
   "source": [
    "# Defining the objective function(cost function representation)\n",
    "objective = cp.Minimize(cp.sum(cp.multiply(C, X)))"
   ]
  },
  {
   "cell_type": "markdown",
   "metadata": {},
   "source": [
    "Constraints\n",
    "- X @ ones == ones: This constraint ensures that each point i has exactly one outgoing edge, meaning the salesperson leaves every point exactly once.\n",
    "- X.T @ ones == ones: This ensures that each point j has exactly one incoming edge, meaning the salesperson arrives at every point exactly once.\n",
    "- cp.diag(X) == 0: This prevents the salesperson from traveling from any point i to itself, i.e., self-loops are not allowed.\n",
    "- u[1:] >= 2 and u[1:] <= n: These constraints set the range for the integer variables u from 2 to n for all points except the starting point. This ensures a valid sequence order for visiting points.\n",
    "- u[0] == 1: The order for the starting point (the origin) is fixed as 1, meaning the salesperson starts at this point.\n",
    "- The constraint u[i] - u[j] + 1 <= (n - 1) * (1 - X[i, j]) ensures that no subtours are formed. If the salesperson travels directly from point i to point j (i.e.,X[i,j]=1), the difference in the order variables u must be consistent with the order of visiting points.\n",
    "- This constraint prevents closed loops (subtours) that visit only a subset of points and forces the solution to be a single valid tour visiting all points."
   ]
  },
  {
   "cell_type": "code",
   "execution_count": 6,
   "metadata": {},
   "outputs": [],
   "source": [
    "# Defining the constraints\n",
    "constraints = []\n",
    "#Adding the first constraint: Each point must be visited exactly once (both incoming and outgoing connections must sum to 1 for each point).\n",
    "constraints += [X @ ones == ones]\n",
    "constraints += [X.T @ ones == ones]\n",
    "#Adding the second constraint: The diagonal of matrix X must be zero, ensuring no point is connected to itself.\n",
    "constraints += [cp.diag(X) == 0]\n",
    "#The vector u starts at 1 for the first point and ranges between 2 and n for other points.\n",
    "constraints += [u[1:] >= 2]\n",
    "constraints += [u[1:] <= n]\n",
    "constraints += [u[0] == 1]\n",
    "#Adding the subtour elimination constraint, If X[i, j] == 1 then the difference between u[i] and u[j] must be constrained to eliminate subtours.\n",
    "for i in range(1, n):\n",
    "    for j in range(1, n):\n",
    "        if i != j:\n",
    "            constraints += [ u[i] - u[j] + 1  <= (n - 1) * (1 - X[i, j]) ]"
   ]
  },
  {
   "cell_type": "markdown",
   "metadata": {},
   "source": [
    "The convex optimization problem is defined by the objective function (minimizing the total distance) and the constraints (ensuring valid tours and eliminating subtours). The problem is solved using CVXPY’s solver."
   ]
  },
  {
   "cell_type": "code",
   "execution_count": 7,
   "metadata": {},
   "outputs": [
    {
     "data": {
      "text/plain": [
       "22.31000388184043"
      ]
     },
     "execution_count": 7,
     "metadata": {},
     "output_type": "execute_result"
    }
   ],
   "source": [
    "# Solving the problem\n",
    "prob = cp.Problem(objective, constraints)\n",
    "prob.solve(verbose=False)"
   ]
  },
  {
   "cell_type": "markdown",
   "metadata": {},
   "source": [
    "After solving the problem, the variable X.value contains the optimal tour, represented by a binary matrix indicating the paths chosen. The solution is converted into a human-readable path (sequence of points) by finding the sequence in which points are visited based on the values in X."
   ]
  },
  {
   "cell_type": "code",
   "execution_count": 8,
   "metadata": {},
   "outputs": [],
   "source": [
    "# Transforming the solution to a path\n",
    "# Extracting the solution matrix X and finds the points where X == 1 i.e. indicating a connection between points.\n",
    "X_sol = np.argwhere(X.value==1)\n",
    "#Constructing the path by iterating over the solution matrix X_sol to build an ordered list of points representing the optimal tour.\n",
    "order = X_sol[0].tolist()\n",
    "for i in range(1, n):\n",
    "    row = order[-1]\n",
    "    order.append(X_sol[row,1])"
   ]
  },
  {
   "cell_type": "code",
   "execution_count": 10,
   "metadata": {},
   "outputs": [
    {
     "name": "stdout",
     "output_type": "stream",
     "text": [
      "The path is:\n",
      "0 => 4 => 3 => 2 => 1 => 5 => 6 => 0\n",
      "The optimal distance is: 22.31 km\n"
     ]
    }
   ],
   "source": [
    "# Showing the optimal path\n",
    "print('The path is:')\n",
    "print( ' => '.join(map(str, order)))\n",
    "# Showing the optimal distance\n",
    "# Calculateing the total distance of the optimal tour by summing the pairwise distances of connected points.\n",
    "distance = np.sum(np.multiply(C, X.value))\n",
    "print('The optimal distance is:', np.round(distance,2), 'km')"
   ]
  },
  {
   "cell_type": "markdown",
   "metadata": {},
   "source": [
    "Summary:\n",
    "- The Travelling salesman problem inclues multiple linear constraints that need to be satisfied for a valid solution so it is a Constrained Optimizaion Problem\n",
    "- The objective function involve linear combination of distance matrix C which makes it a Problem of Constrained linear programming "
   ]
  }
 ],
 "metadata": {
  "kernelspec": {
   "display_name": "Python 3",
   "language": "python",
   "name": "python3"
  },
  "language_info": {
   "codemirror_mode": {
    "name": "ipython",
    "version": 3
   },
   "file_extension": ".py",
   "mimetype": "text/x-python",
   "name": "python",
   "nbconvert_exporter": "python",
   "pygments_lexer": "ipython3",
   "version": "3.12.4"
  }
 },
 "nbformat": 4,
 "nbformat_minor": 2
}
