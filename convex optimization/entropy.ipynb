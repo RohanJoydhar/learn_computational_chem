{
 "cells": [
  {
   "cell_type": "markdown",
   "metadata": {},
   "source": [
    "# Entropy Maximization\n",
    "- Entropy maximization is the central optimization technique. This approach maximizes the entropy of a probability distribution subject to constraints. It is commonly used in information theory, statistical mechanics, and various machine learning applications.\n",
    "- In this problem, the objective function is cp.entr(x), which represents the element-wise entropy of the vector x. Entropy measures the uncertainty or randomness in a system, and maximizing it leads to a distribution that is as \"spread out\" or \"uncertain\" as possible\n",
    "- Entropy function for valriable x is: entr(x) = -xlog(x)\n",
    "- The function entr(x) is concave for x>0, making this a convex optimization problem because maximizing a concave function is a standard approach in convex optimization.\n",
    "- cost function  in this problem is the sum of the entropies of the element of vector x"
   ]
  },
  {
   "cell_type": "code",
   "execution_count": 1,
   "metadata": {},
   "outputs": [],
   "source": [
    "import cvxpy as cp\n",
    "import numpy as np\n",
    "import warnings\n",
    "warnings.filterwarnings(\"ignore\")"
   ]
  },
  {
   "cell_type": "markdown",
   "metadata": {},
   "source": [
    "This problem can be formulated in CVXPY using the entr atom"
   ]
  },
  {
   "cell_type": "code",
   "execution_count": 2,
   "metadata": {},
   "outputs": [],
   "source": [
    "# Make random input repeatable. \n",
    "np.random.seed(0) \n",
    "# Matrix size parameters.\n",
    "n = 20\n",
    "m = 10\n",
    "p = 5\n",
    "# Generate random problem data.\n",
    "# Generating a random vector tmp of size n\n",
    "tmp = np.random.rand(n)\n",
    "#Generating a random matrix A of size m x n, with values drawn from a normal distribution (mean 0, variance 1)\n",
    "A = np.random.randn(m, n)\n",
    "# A * x = b\n",
    "b = A.dot(tmp)\n",
    "F = np.random.randn(p, n)\n",
    "g = F.dot(tmp) + np.random.rand(p)"
   ]
  },
  {
   "cell_type": "code",
   "execution_count": 3,
   "metadata": {},
   "outputs": [],
   "source": [
    "#defining variables\n",
    "#Defining the optimization variable x, which is a vector of size n\n",
    "x = cp.Variable(shape=n)"
   ]
  },
  {
   "cell_type": "markdown",
   "metadata": {},
   "source": [
    "The objective function, cp.Maximize(cp.sum(cp.entr(x))), is the sum of the element-wise entropy of the vector x. This function is concave, so maximizing it results in a convex optimization problem.\n",
    "- Entropy maximization seeks to find a solution where the values of x are as evenly spread out as possible, under the constraints. This is useful in problems where you want to avoid biasing the solution toward specific values, leading to a more uniform or random-like solution."
   ]
  },
  {
   "cell_type": "code",
   "execution_count": 4,
   "metadata": {},
   "outputs": [],
   "source": [
    "# Definiig objective fuction\n",
    "obj = cp.Maximize(cp.sum(cp.entr(x)))"
   ]
  },
  {
   "cell_type": "markdown",
   "metadata": {},
   "source": [
    "This constraint ensures that the solution x is consistent with the linear system defined by matrix A and vector b. In this case, b is generated as A.dot(tmp), so the solution x must be a vector that, when multiplied by A, gives the vector b.\n",
    "- The equality constraint ensures that the solution respects certain linear relationships between variables. It might represent physical or other domain-specific constraints in real-world problems.\n",
    "- F⋅x≤g This is an inequality constraint, meaning the values of x must be such that the product of matrix F and x does not exceed the values in vector g. Here, g is generated as F.dot(tmp) + np.random.rand(p)\n",
    "- Inequality constraints like this are common in optimization problems to enforce limits or bounds on the solution, ensuring that certain conditions (e.g., budget, physical limits) are not violated."
   ]
  },
  {
   "cell_type": "code",
   "execution_count": 5,
   "metadata": {},
   "outputs": [],
   "source": [
    "#defining constrains\n",
    "constraints = [A*x == b, #eguality constraints to satify linear system\n",
    "               F*x <= g ] #inequality constrains to bound x by cetain condition."
   ]
  },
  {
   "cell_type": "code",
   "execution_count": 6,
   "metadata": {},
   "outputs": [
    {
     "name": "stdout",
     "output_type": "stream",
     "text": [
      "===============================================================================\n",
      "                                     CVXPY                                     \n",
      "                                     v1.5.3                                    \n",
      "===============================================================================\n",
      "(CVXPY) Sep 06 04:19:14 PM: Your problem has 20 variables, 15 constraints, and 0 parameters.\n",
      "(CVXPY) Sep 06 04:19:14 PM: It is compliant with the following grammars: DCP, DQCP\n",
      "(CVXPY) Sep 06 04:19:14 PM: (If you need to solve this problem multiple times, but with different data, consider using parameters.)\n",
      "(CVXPY) Sep 06 04:19:14 PM: CVXPY will first compile your problem; then, it will invoke a numerical solver to obtain a solution.\n",
      "(CVXPY) Sep 06 04:19:14 PM: Your problem is compiled with the CPP canonicalization backend.\n",
      "-------------------------------------------------------------------------------\n",
      "                                  Compilation                                  \n",
      "-------------------------------------------------------------------------------\n",
      "(CVXPY) Sep 06 04:19:14 PM: Compiling problem (target solver=ECOS).\n",
      "(CVXPY) Sep 06 04:19:14 PM: Reduction chain: FlipObjective -> Dcp2Cone -> CvxAttr2Constr -> ConeMatrixStuffing -> ECOS\n",
      "(CVXPY) Sep 06 04:19:14 PM: Applying reduction FlipObjective\n",
      "(CVXPY) Sep 06 04:19:14 PM: Applying reduction Dcp2Cone\n",
      "(CVXPY) Sep 06 04:19:14 PM: Applying reduction CvxAttr2Constr\n",
      "(CVXPY) Sep 06 04:19:14 PM: Applying reduction ConeMatrixStuffing\n",
      "(CVXPY) Sep 06 04:19:14 PM: Applying reduction ECOS\n",
      "(CVXPY) Sep 06 04:19:14 PM: Finished problem compilation (took 2.105e-02 seconds).\n",
      "-------------------------------------------------------------------------------\n",
      "                                Numerical solver                               \n",
      "-------------------------------------------------------------------------------\n",
      "(CVXPY) Sep 06 04:19:14 PM: Invoking solver ECOS  to obtain a solution.\n",
      "-------------------------------------------------------------------------------\n",
      "                                    Summary                                    \n",
      "-------------------------------------------------------------------------------\n",
      "(CVXPY) Sep 06 04:19:14 PM: Problem status: optimal\n",
      "(CVXPY) Sep 06 04:19:14 PM: Optimal value: 5.481e+00\n",
      "(CVXPY) Sep 06 04:19:14 PM: Compilation took 2.105e-02 seconds\n",
      "(CVXPY) Sep 06 04:19:14 PM: Solver (including time spent in interface) took 3.061e-03 seconds\n"
     ]
    },
    {
     "data": {
      "text/plain": [
       "5.480901487186169"
      ]
     },
     "execution_count": 6,
     "metadata": {},
     "output_type": "execute_result"
    }
   ],
   "source": [
    "#solving the problem\n",
    "prob = cp.Problem(obj, constraints)\n",
    "#general-purpose convex solver suitable for problems involving equality, inequality constraints, and entropy maximization.\n",
    "prob.solve(solver=cp.ECOS, verbose=True)"
   ]
  },
  {
   "cell_type": "code",
   "execution_count": 9,
   "metadata": {},
   "outputs": [
    {
     "name": "stdout",
     "output_type": "stream",
     "text": [
      "\n",
      "The optimal value is: 5.480901487186169\n",
      "\n",
      "The optimal solution is: \n",
      " [0.43483319 0.66111715 0.49201039 0.3603062  0.3841663  0.30283659\n",
      " 0.4173023  0.79107794 0.76667303 0.38292364 1.2479328  0.50416987\n",
      " 0.68053833 0.67163957 0.13877258 0.5248668  0.08418897 0.56927148\n",
      " 0.50000247 0.78291311]\n"
     ]
    }
   ],
   "source": [
    "# Print result.\n",
    "print(\"\\nThe optimal value is:\", prob.value)\n",
    "print('\\nThe optimal solution is: \\n', x.value)"
   ]
  },
  {
   "cell_type": "markdown",
   "metadata": {},
   "source": [
    "Summary:\n",
    "- Here we have Equality and Inequality constraint to satify so this is a Constrained Optimization problem"
   ]
  }
 ],
 "metadata": {
  "kernelspec": {
   "display_name": "Python 3",
   "language": "python",
   "name": "python3"
  },
  "language_info": {
   "codemirror_mode": {
    "name": "ipython",
    "version": 3
   },
   "file_extension": ".py",
   "mimetype": "text/x-python",
   "name": "python",
   "nbconvert_exporter": "python",
   "pygments_lexer": "ipython3",
   "version": "3.12.4"
  }
 },
 "nbformat": 4,
 "nbformat_minor": 2
}
