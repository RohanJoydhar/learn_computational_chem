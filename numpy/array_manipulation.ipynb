{
 "cells": [
  {
   "cell_type": "code",
   "execution_count": 1,
   "metadata": {},
   "outputs": [],
   "source": [
    "import numpy as np"
   ]
  },
  {
   "cell_type": "code",
   "execution_count": 2,
   "metadata": {},
   "outputs": [
    {
     "name": "stdout",
     "output_type": "stream",
     "text": [
      "[[ 1  2  3  4  5]\n",
      " [ 6  7  8  9 10]\n",
      " [11 12 13 14 15]\n",
      " [16 17 18 19 20]]\n"
     ]
    }
   ],
   "source": [
    "# create numpy array\n",
    "arr = np.array([[1, 2, 3, 4, 5], \n",
    "                [6, 7, 8, 9, 10], \n",
    "                [11, 12, 13, 14, 15], \n",
    "                [16, 17, 18, 19, 20]])\n",
    "\n",
    "# view array \n",
    "print(arr)"
   ]
  },
  {
   "cell_type": "code",
   "execution_count": 3,
   "metadata": {},
   "outputs": [
    {
     "name": "stdout",
     "output_type": "stream",
     "text": [
      "True\n",
      "False\n",
      "False\n",
      "True\n"
     ]
    }
   ],
   "source": [
    "# check for some lists available in numpy.array.tolist().\n",
    "print([1, 2, 3, 4, 5] in arr.tolist()) \n",
    "print([16, 17, 20, 19, 18] in arr.tolist()) \n",
    "print([3, 2, 5, -4, 5] in arr.tolist()) \n",
    "print([11, 12, 13, 14, 15] in arr.tolist()) "
   ]
  },
  {
   "cell_type": "code",
   "execution_count": 16,
   "metadata": {},
   "outputs": [
    {
     "name": "stdout",
     "output_type": "stream",
     "text": [
      "[[10.5  22.5   3.8 ]\n",
      " [23.45 50.   78.7 ]\n",
      " [41.     nan   nan]]\n"
     ]
    }
   ],
   "source": [
    "# Creating 2X3 2-D Numpy array \n",
    "arr = np.array([[10.5, 22.5, 3.8],  \n",
    "                [23.45, 50, 78.7], \n",
    "                [41, np.nan, np.nan]]) \n",
    "print(arr)"
   ]
  },
  {
   "cell_type": "code",
   "execution_count": 17,
   "metadata": {},
   "outputs": [
    {
     "name": "stdout",
     "output_type": "stream",
     "text": [
      "[[10.5  22.5   3.8 ]\n",
      " [23.45 50.   78.7 ]]\n"
     ]
    }
   ],
   "source": [
    "# Remove all rows containing non-numeric elements \n",
    "# isnan() returns ture or false , axis=1 represents row operation, axis=0 column operation \n",
    "# \"~\" operation is a bitwise NOT operator used for revese the boolean array returns form isnan() function\n",
    "# arr[] This is the NumPy array indexing operation. \n",
    "# The boolean array ~np.isnan(arr).any(axis=1) is used to filter the rows of arr\n",
    "# Only rows where the corresponding element in the boolean array is True are selected.\n",
    "print(arr[~np.isnan(arr).any(axis=1)])"
   ]
  },
  {
   "cell_type": "code",
   "execution_count": 24,
   "metadata": {},
   "outputs": [
    {
     "name": "stdout",
     "output_type": "stream",
     "text": [
      "[[[2 2 2]\n",
      "  [2 2 2]]]\n",
      "shape of in array :  (1, 2, 3)\n",
      "[[2 2 2]\n",
      " [2 2 2]]\n",
      "shape of out array :  (2, 3)\n"
     ]
    }
   ],
   "source": [
    "in_arr = np.array([[[2, 2, 2], [2, 2, 2]]]) \n",
    "#in_arr is a 3-dimensional NumPy array with the shape (1, 2, 3).\n",
    "#It consists of one 2x3 matrix, where all elements are 2\n",
    "print(in_arr)\n",
    "print(\"shape of in array : \" ,in_arr.shape)\n",
    "\n",
    "out_arr = np.squeeze(in_arr)\n",
    "#squeeze() is a NumPy function that removes any single-dimensional entries (dimensions with size 1) from the shape of an array.\n",
    "print(out_arr)\n",
    "#In in_arr, the first dimension has size 1, so it is removed.\n",
    "# The resulting out_arr has a shape of (2, 3)\n",
    "print(\"shape of out array : \" ,out_arr.shape)"
   ]
  },
  {
   "cell_type": "markdown",
   "metadata": {},
   "source": [
    "in_arr = np.arange(9).reshape(1, 3, 3) creates a 3D array of shape (1, 3, 3). \n",
    "\n",
    "The first dimension has a size of 1, and the other two dimensions have a size of 3.\n",
    "\n",
    "numpy.arange() is a function in the NumPy library that generates an array containing evenly spaced values within a given interval.\n",
    "\n",
    "numpy.arange([start, ]stop, [step, ], dtype=None)\n",
    "\n",
    "start (optional): The starting value of the interval. The default value is 0.\n",
    "\n",
    "stop (required): The end of the interval. This value is not included in the array.\n",
    "\n",
    "step (optional): The spacing between consecutive values. The default value is 1.\n",
    "\n",
    "dtype (optional): The desired data type of the array elements. If not provided, it will be inferred from the other arguments. \n",
    "\n",
    "squeeze(in_arr, axis=0) removes the axis with a size of 1 at index 0.\n",
    "\n",
    "The output array out_arr now has a shape of (3, 3)\n",
    "\n",
    "If axis is not None, and an axis being squeezed is not of length 1."
   ]
  },
  {
   "cell_type": "code",
   "execution_count": 27,
   "metadata": {},
   "outputs": [
    {
     "name": "stdout",
     "output_type": "stream",
     "text": [
      "[[[0 1 2]\n",
      "  [3 4 5]\n",
      "  [6 7 8]]]\n",
      "shape of input array :  (1, 3, 3)\n",
      "[[0 1 2]\n",
      " [3 4 5]\n",
      " [6 7 8]]\n",
      "shape of input array :  (3, 3)\n"
     ]
    }
   ],
   "source": [
    "in_arr = np.arange(9).reshape(1, 3, 3)\n",
    "print(in_arr)\n",
    "print(\"shape of input array : \",in_arr.shape)\n",
    "\n",
    "out_arr = np.squeeze(in_arr, axis=0) \n",
    "print(out_arr)\n",
    "print(\"shape of input array : \",out_arr.shape)"
   ]
  },
  {
   "cell_type": "markdown",
   "metadata": {},
   "source": [
    "repr(arr) converts the array to its string representation\n",
    "\n",
    ".count(\"9, 4\") counts the occurrences of the substring \"9, 4\" in this string representation."
   ]
  },
  {
   "cell_type": "code",
   "execution_count": 3,
   "metadata": {},
   "outputs": [
    {
     "name": "stdout",
     "output_type": "stream",
     "text": [
      "4\n"
     ]
    }
   ],
   "source": [
    "arr = np.array([[2, 8, 9, 4],  \n",
    "                [9, 4, 9, 4], \n",
    "                [4, 5, 9, 7], \n",
    "                [2, 9, 4, 3]])\n",
    "\n",
    "output = repr(arr).count(\"9, 4\")\n",
    "print(output)"
   ]
  },
  {
   "cell_type": "markdown",
   "metadata": {},
   "source": [
    "np.bincount(arr): bincount counts the number of occurrences of each value in the array arr. \n",
    "\n",
    "The result is an array where the index represents the value and the value at that index represents the count of that value in arr.\n",
    "\n",
    ".argmax() returns the index of the maximum value in the array. \n",
    "\n",
    "In this case, it finds the index of the highest count, which corresponds to the most frequent value in the original array."
   ]
  },
  {
   "cell_type": "code",
   "execution_count": 7,
   "metadata": {},
   "outputs": [
    {
     "name": "stdout",
     "output_type": "stream",
     "text": [
      "Original array:\n",
      "[1 2 3 4 9 1 2 1 1 1]\n",
      "the bitcount array is:  [0 5 2 1 1 0 0 0 0 1]\n",
      "Most frequent value in the above array:  1\n"
     ]
    }
   ],
   "source": [
    "arr = np.array([1,2,3,4,9,1,2,1,1,1]) \n",
    "print(\"Original array:\") \n",
    "print(arr)\n",
    "\n",
    "value = np.bincount(arr)\n",
    "print(\"the bitcount array is: \", value)\n",
    "\n",
    "value = np.bincount(arr).argmax()\n",
    "\n",
    "print(\"Most frequent value in the above array: \", value) "
   ]
  },
  {
   "cell_type": "markdown",
   "metadata": {},
   "source": [
    "np.nditer() This is an iterator object used for efficient multi-dimensional array iteration. \n",
    "\n",
    "It allows iterating over one or more arrays element by element."
   ]
  },
  {
   "cell_type": "code",
   "execution_count": 9,
   "metadata": {},
   "outputs": [
    {
     "name": "stdout",
     "output_type": "stream",
     "text": [
      "One dimensional array:\n",
      "[0 1 2 3 4]\n",
      "\n",
      "Two dimensional array:\n",
      "[[0 1 2 3 4]\n",
      " [5 6 7 8 9]]\n",
      "0:0\n",
      "1:1\n",
      "2:2\n",
      "3:3\n",
      "4:4\n",
      "0:5\n",
      "1:6\n",
      "2:7\n",
      "3:8\n",
      "4:9\n"
     ]
    }
   ],
   "source": [
    "arr_1d = np.arange(5) \n",
    "print(\"One dimensional array:\") \n",
    "print(arr_1d) \n",
    "  \n",
    "arr_2d = np.arange(10).reshape(2,5) \n",
    "print(\"\\nTwo dimensional array:\") \n",
    "print(arr_2d) \n",
    "\n",
    "for a, b in np.nditer([arr_1d, arr_2d]): \n",
    "    print(\"%d:%d\" % (a, b),)"
   ]
  },
  {
   "cell_type": "markdown",
   "metadata": {},
   "source": [
    "meshgrid() generates coordinate matrices from the input arrays arr_1 and arr_2. \n",
    "\n",
    "It effectively creates a grid where each element from arr_1 is paired with each element from arr_2 and arr_3\n",
    "\n",
    "\".T\" Transposes the 3D array so that the shape changes from.\n",
    "\n",
    ".reshape(-1, 3): Reshapes the array into a 2D array with two columns and as many rows as there are pairs.\n",
    "\n",
    "The -1 tells NumPy to automatically calculate the appropriate number of rows based on the total number of elements and the other dimension specified (3 in this case)\n",
    "\n",
    "The 3 specifies that each row should have 3 elements."
   ]
  },
  {
   "cell_type": "code",
   "execution_count": 32,
   "metadata": {},
   "outputs": [
    {
     "name": "stdout",
     "output_type": "stream",
     "text": [
      "Array 1\n",
      "[1 2 4]\n",
      "Array 2\n",
      "[4 6]\n",
      "Array 3\n",
      "[18 17]\n",
      "\n",
      "Combine array:\n",
      "[[ 1  4 18]\n",
      " [ 1  6 18]\n",
      " [ 2  4 18]\n",
      " [ 2  6 18]\n",
      " [ 4  4 18]\n",
      " [ 4  6 18]\n",
      " [ 1  4 17]\n",
      " [ 1  6 17]\n",
      " [ 2  4 17]\n",
      " [ 2  6 17]\n",
      " [ 4  4 17]\n",
      " [ 4  6 17]]\n"
     ]
    }
   ],
   "source": [
    "# creating 2 numpy arrays \n",
    "arr_1 = np.array([1, 2, 4]) \n",
    "arr_2 = np.array([4, 6]) \n",
    "arr_3 = np.array([18, 17]) \n",
    "  \n",
    "print(\"Array 1\") \n",
    "print(arr_1) \n",
    "  \n",
    "print(\"Array 2\") \n",
    "print(arr_2)\n",
    "\n",
    "print(\"Array 3\") \n",
    "print(arr_3)\n",
    "\n",
    "\n",
    "comb_array = np.array(np.meshgrid(arr_1, arr_2, arr_3)).T.reshape(-1, 3) \n",
    "  \n",
    "print(\"\\nCombine array:\") \n",
    "print(comb_array) "
   ]
  },
  {
   "cell_type": "markdown",
   "metadata": {},
   "source": [
    "np.pad(): This function adds padding to an array. The padding can be added to any or all of the dimensions of the array.\n",
    "\n",
    "Parameters:\n",
    "\n",
    "array: The array that you want to pad.\n",
    "\n",
    "pad_width=1: Specifies the number of values padded to the edges of each dimension. In this case, 1 means one element is added to each side (both before and after) of the array's dimensions.\n",
    "\n",
    "mode='constant': Specifies the type of padding. Here, 'constant' means that the padding values are constant, as opposed to other modes like 'reflect', 'symmetric', or 'wrap'.\n",
    "\n",
    "constant_values=0: Specifies the value to be used for the padding. In this case, 0 is used, so the padding consists of zeros."
   ]
  },
  {
   "cell_type": "code",
   "execution_count": 38,
   "metadata": {},
   "outputs": [
    {
     "name": "stdout",
     "output_type": "stream",
     "text": [
      "Original array\n",
      "[[1 1]\n",
      " [1 1]]\n",
      "array after adding padding\n",
      "[[0 0 0 0]\n",
      " [0 1 1 0]\n",
      " [0 1 1 0]\n",
      " [0 0 0 0]]\n"
     ]
    }
   ],
   "source": [
    "# Creating a 2X2 Numpy matrix \n",
    "array = np.ones((2, 2), dtype=int) \n",
    "print(\"Original array\") \n",
    "print(array)\n",
    "\n",
    "array = np.pad(array, pad_width=1, mode='constant', constant_values=0)\n",
    "print(\"array after adding padding\")\n",
    "print(array)"
   ]
  },
  {
   "cell_type": "markdown",
   "metadata": {},
   "source": [
    "all() method check the array in comparison and return true or flase accordingly"
   ]
  },
  {
   "cell_type": "code",
   "execution_count": 3,
   "metadata": {},
   "outputs": [
    {
     "name": "stdout",
     "output_type": "stream",
     "text": [
      "False\n"
     ]
    }
   ],
   "source": [
    "arr_one = np.array([[1, 2], [3, 5]])\n",
    "arr_two = np.array([[1, 2], [3, 4]])\n",
    " \n",
    "comparison = arr_one == arr_two\n",
    "equal_arrays = comparison.all()\n",
    " \n",
    "print(equal_arrays)"
   ]
  },
  {
   "cell_type": "markdown",
   "metadata": {},
   "source": [
    "we can check a spectic number is availaabe in  array or not using \"in\""
   ]
  },
  {
   "cell_type": "code",
   "execution_count": 4,
   "metadata": {},
   "outputs": [
    {
     "name": "stdout",
     "output_type": "stream",
     "text": [
      "Given array:\n",
      "[[ 4.   5.5  7.   6.9 10. ]\n",
      " [ 7.1  5.3 40.   8.8  1. ]\n",
      " [ 4.4  9.3  6.   2.2 11. ]\n",
      " [ 7.1  4.   5.   9.  10.5]]\n",
      "False\n",
      "False\n",
      "False\n"
     ]
    }
   ],
   "source": [
    "# creating a Numpy array \n",
    "my_arr = np.array([[4, 5.5, 7, 6.9, 10], \n",
    "\t\t\t\t\t[7.1, 5.3, 40, 8.8, 1], \n",
    "\t\t\t\t\t[4.4, 9.3, 6, 2.2, 11], \n",
    "\t\t\t\t\t[7.1, 4, 5, 9, 10.5]]) \n",
    "\n",
    "\n",
    "print(\"Given array:\") \n",
    "print(my_arr) \n",
    "\n",
    "# Checking whether specific values \n",
    "# are present in \"my_arr\" or not \n",
    "print(2.14 in my_arr) \n",
    "print(5.28 in my_arr) \n",
    "print(8.5 in my_arr) \n"
   ]
  },
  {
   "cell_type": "markdown",
   "metadata": {},
   "source": [
    "np.diagonal(arr, axis1=1, axis2=2) extracts the diagonal elements from each 2D slice along the specified axes (axis1=1 for rows and axis2=2 for columns)."
   ]
  },
  {
   "cell_type": "code",
   "execution_count": 9,
   "metadata": {},
   "outputs": [
    {
     "name": "stdout",
     "output_type": "stream",
     "text": [
      "Original 3d array:\n",
      " [[[ 0  1  2  3]\n",
      "  [ 4  5  6  7]\n",
      "  [ 8  9 10 11]\n",
      "  [12 13 14 15]]\n",
      "\n",
      " [[16 17 18 19]\n",
      "  [20 21 22 23]\n",
      "  [24 25 26 27]\n",
      "  [28 29 30 31]]\n",
      "\n",
      " [[32 33 34 35]\n",
      "  [36 37 38 39]\n",
      "  [40 41 42 43]\n",
      "  [44 45 46 47]]]\n",
      "2d diagonal array:\n",
      " [[ 0  5 10 15]\n",
      " [16 21 26 31]\n",
      " [32 37 42 47]]\n"
     ]
    }
   ],
   "source": [
    "\n",
    "# Create 3D-numpy array  of 4 rows and 4 columns \n",
    "arr_3d = np.arange(3 * 4 * 4).reshape(3, 4, 4) \n",
    "\n",
    "print(\"Original 3d array:\\n\", arr_3d) \n",
    "\n",
    "# Create 2D diagonal array \n",
    "arr_diag = np.diagonal(arr_3d, axis1 = 1, axis2 = 2) \n",
    "\n",
    "print(\"2d diagonal array:\\n\", arr_diag)\n"
   ]
  },
  {
   "cell_type": "code",
   "execution_count": 14,
   "metadata": {},
   "outputs": [
    {
     "name": "stdout",
     "output_type": "stream",
     "text": [
      "Original array \n",
      " [[ 6  9 12]\n",
      " [ 8  5  2]\n",
      " [18 21 24]]\n",
      "Flatten array \n",
      " [ 6  9 12  8  5  2 18 21 24]\n"
     ]
    }
   ],
   "source": [
    "# declare matrix with np \n",
    "arr_1st = np.array([[6, 9, 12], [8, 5, 2], [18, 21, 24]]) \n",
    "print(\"Original array \\n\", arr_1d)\n",
    "# using array.flatten() method \n",
    "flat_arr_1st = arr_1st.flatten(order='A') \n",
    "print(\"Flatten array \\n\",flat_arr_1st) \n"
   ]
  },
  {
   "cell_type": "markdown",
   "metadata": {},
   "source": [
    "we can use moveaxis() to move the axis of a array it takes array , initial index and final index as output"
   ]
  },
  {
   "cell_type": "code",
   "execution_count": 18,
   "metadata": {},
   "outputs": [
    {
     "name": "stdout",
     "output_type": "stream",
     "text": [
      "(2, 3, 4, 1)\n"
     ]
    }
   ],
   "source": [
    "arr = np.zeros((1, 2, 3, 4)) \n",
    "# moving axis and getting shape of array\n",
    "arr_2nd = np.moveaxis(arr, 0, -1).shape \n",
    "print (arr_2nd) \n"
   ]
  },
  {
   "cell_type": "code",
   "execution_count": 19,
   "metadata": {},
   "outputs": [
    {
     "name": "stdout",
     "output_type": "stream",
     "text": [
      "[[2]\n",
      " [4]\n",
      " [6]]\n"
     ]
    }
   ],
   "source": [
    "# numpy.swapaxes() function \n",
    "arr_1st = np.array([[2, 4, 6]]) \n",
    "arr_2nd = np.swapaxes(arr_1st, 0, 1) \n",
    "print (arr_2nd) \n"
   ]
  },
  {
   "cell_type": "code",
   "execution_count": 24,
   "metadata": {},
   "outputs": [
    {
     "name": "stdout",
     "output_type": "stream",
     "text": [
      "[[1 4]\n",
      " [2 5]\n",
      " [3 6]]\n"
     ]
    }
   ],
   "source": [
    "# numpy.swapaxes() function \n",
    "arr_1st = np.array([[1, 2, 3],[4, 5, 6]]) \n",
    "arr_2nd = np.swapaxes(arr_1st, 0, 1) \n",
    "print (arr_2nd) \n"
   ]
  },
  {
   "cell_type": "code",
   "execution_count": 27,
   "metadata": {},
   "outputs": [
    {
     "name": "stdout",
     "output_type": "stream",
     "text": [
      "[1 2 3 4 5 6 7 8 9]\n",
      "The first 9 numbers of Fibonacci series are [ 1.  1.  2.  3.  5.  8. 13. 21. 34.] . \n"
     ]
    }
   ],
   "source": [
    "# We are creating an array contains n elements \n",
    "# for getting first 'n' Fibonacci numbers \n",
    "fNumber = int(input(\"Enter the value of n + 1'th number : \")) \n",
    "a = np.arange(1, fNumber) \n",
    "length_a = len(a) \n",
    "# splitting of terms for easiness \n",
    "sqrt_five = np.sqrt(5) \n",
    "alpha = (1 + sqrt_five) / 2\n",
    "beta = (1 - sqrt_five) / 2\n",
    "\n",
    "# Implementation of formula \n",
    "# np.rint is used for rounding off to integer \n",
    "fn = np.rint(((alpha ** a) - (beta ** a)) / (sqrt_five)) \n",
    "print(\"The first {} numbers of Fibonacci series are {} . \".format(length_a, fn)) "
   ]
  },
  {
   "cell_type": "code",
   "execution_count": 29,
   "metadata": {},
   "outputs": [
    {
     "name": "stdout",
     "output_type": "stream",
     "text": [
      "6\n"
     ]
    }
   ],
   "source": [
    "# numpy.count_nonzero() function, give the count of non zero values in numpy array\n",
    "\n",
    "arr_1st = [[0, 1, 2, 3, 0], [0, 5, 6, 0, 7]] \n",
    "\n",
    "arr_nonzero = np.count_nonzero(arr_1st) \n",
    "\n",
    "print (arr_nonzero) \n"
   ]
  },
  {
   "cell_type": "code",
   "execution_count": 31,
   "metadata": {},
   "outputs": [
    {
     "name": "stdout",
     "output_type": "stream",
     "text": [
      "8\n",
      "2\n",
      "4\n"
     ]
    }
   ],
   "source": [
    "# Python program explaining\n",
    "# numpy.size() method \n",
    "# Making a random array \n",
    "arr = np.array([[1, 2, 3, 4], [5, 6, 7, 8]])\n",
    "\n",
    "# count the number of elements along the axis.\n",
    "# Here rows and columns are being treated\n",
    "# as elements\n",
    "print(np.size(arr)) \n",
    "#gives no. of rows along x-axis\n",
    "print(np.size(arr, 0)) \n",
    "\n",
    "#gives no. of columns along y-axis\n",
    "print(np.size(arr, 1)) \n"
   ]
  },
  {
   "cell_type": "code",
   "execution_count": 32,
   "metadata": {},
   "outputs": [
    {
     "name": "stdout",
     "output_type": "stream",
     "text": [
      "[ 1  5  7  0  6  2  9  0 10]\n"
     ]
    }
   ],
   "source": [
    "arr_1st = np.array((0, 0, 0, 0, 1, 5, 7, 0, 6, 2, 9, 0, 10, 0, 0)) \n",
    "\n",
    "# without trim parameter \n",
    "# returns an array without leading and trailing zeros \n",
    "print\n",
    "arr_nonzero = np.trim_zeros(arr_1st) \n",
    "print(\"without zero: \"arr_nonzero) \n"
   ]
  },
  {
   "cell_type": "code",
   "execution_count": 36,
   "metadata": {},
   "outputs": [
    {
     "name": "stdout",
     "output_type": "stream",
     "text": [
      "[10 20 30 40 50]\n",
      "int32\n",
      "float64\n"
     ]
    }
   ],
   "source": [
    "# Create a numpy array \n",
    "arr = np.array([10, 20, 30, 40, 50]) \n",
    "# Print the array \n",
    "print(arr)\n",
    "# Print the dtype \n",
    "print(arr.dtype)\n",
    "# change the dtype to 'float64' \n",
    "arr = arr.astype('float64') \n",
    "\n",
    "# print the data type \n",
    "print(arr.dtype)\n"
   ]
  },
  {
   "cell_type": "code",
   "execution_count": 39,
   "metadata": {},
   "outputs": [
    {
     "name": "stdout",
     "output_type": "stream",
     "text": [
      "initial array [1 2 3 6 4 5]\n",
      "type of ini_array <class 'numpy.ndarray'>\n",
      "final array [5 4 6 3 2 1]\n",
      "final array [5 4 6 3 2 1]\n",
      "final array [5 4 6 3 2 1]\n"
     ]
    }
   ],
   "source": [
    "# initialising numpy array\n",
    "ini_array = np.array([1, 2, 3, 6, 4, 5])\n",
    "\n",
    "# printing initial ini_array\n",
    "print(\"initial array\", str(ini_array))\n",
    "\n",
    "# printing type of ini_array\n",
    "print(\"type of ini_array\", type(ini_array))\n",
    "\n",
    "# using shortcut method to reverse\n",
    "res = np.flip(ini_array)\n",
    " \n",
    "# printing result\n",
    "print(\"final array\", str(res))\n",
    "\n",
    "# using shortcut method to reverse\n",
    "res = ini_array[::-1]\n",
    "\n",
    "# printing result\n",
    "print(\"final array\", str(res))\n",
    "# using flipud method to reverse\n",
    "res = np.flipud(ini_array)\n",
    " \n",
    "# printing result\n",
    "print(\"final array\", str(res))\n"
   ]
  },
  {
   "cell_type": "code",
   "execution_count": 42,
   "metadata": {},
   "outputs": [
    {
     "name": "stdout",
     "output_type": "stream",
     "text": [
      "Before any change \n",
      "[0. 0. 0. 0. 0. 0. 0. 0. 0. 0. 0.]\n",
      "Before after first change \n",
      "[0. 2. 0. 0. 0. 0. 0. 0. 0. 0. 0.]\n",
      "After making array immutable on attempting second change \n"
     ]
    }
   ],
   "source": [
    "a = np.zeros(11)\n",
    "print(\"Before any change \")\n",
    "print(a)\n",
    "\n",
    "a[1] = 2\n",
    "print(\"Before after first change \")\n",
    "print(a)\n",
    "\n",
    "a.setflags(write=False)\n",
    "print(\"After making array immutable on attempting second change \")\n",
    "# a[1] = 7\n"
   ]
  }
 ],
 "metadata": {
  "kernelspec": {
   "display_name": "Python 3",
   "language": "python",
   "name": "python3"
  },
  "language_info": {
   "codemirror_mode": {
    "name": "ipython",
    "version": 3
   },
   "file_extension": ".py",
   "mimetype": "text/x-python",
   "name": "python",
   "nbconvert_exporter": "python",
   "pygments_lexer": "ipython3",
   "version": "3.12.4"
  }
 },
 "nbformat": 4,
 "nbformat_minor": 2
}
