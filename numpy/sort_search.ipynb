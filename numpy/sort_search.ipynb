{
 "cells": [
  {
   "cell_type": "code",
   "execution_count": 2,
   "metadata": {},
   "outputs": [],
   "source": [
    "import numpy as np"
   ]
  },
  {
   "cell_type": "markdown",
   "metadata": {},
   "source": [
    "indices of the sorted elements of a given array with the help of argsort() \n",
    "\n",
    "numpy.argsort(arr, axis=-1, kind=’quicksort’, order=None)"
   ]
  },
  {
   "cell_type": "code",
   "execution_count": 5,
   "metadata": {},
   "outputs": [
    {
     "name": "stdout",
     "output_type": "stream",
     "text": [
      "[ 10  52  62  16  16  54 453]\n",
      "[0 3 4 1 5 2 6]\n"
     ]
    }
   ],
   "source": [
    "\n",
    "# Original array\n",
    "array = np.array([10, 52, 62, 16, 16, 54, 453])\n",
    "print(array)\n",
    "\n",
    "# Indices of the sorted elements of \n",
    "# a given array\n",
    "indices = np.argsort(array)\n",
    "print(indices)"
   ]
  },
  {
   "cell_type": "code",
   "execution_count": 6,
   "metadata": {},
   "outputs": [
    {
     "name": "stdout",
     "output_type": "stream",
     "text": [
      "Input array :\n",
      " [[2 0 1]\n",
      " [5 4 3]]\n",
      "\n",
      "Output sorted array indices along axis 0:\n",
      " [[0 0 0]\n",
      " [1 1 1]]\n",
      "\n",
      "Output sorted array indices along axis 1:\n",
      " [[1 2 0]\n",
      " [2 1 0]]\n"
     ]
    }
   ],
   "source": [
    "\n",
    "in_arr = np.array([[ 2, 0, 1], [ 5, 4, 3]]) \n",
    "print (\"Input array :\\n\", in_arr) \n",
    "\n",
    "# output sorted array indices \n",
    "out_arr1 = np.argsort(in_arr, kind ='mergesort', axis = 0) \n",
    "print (\"\\nOutput sorted array indices along axis 0:\\n\", out_arr1) \n",
    "\n",
    "out_arr2 = np.argsort(in_arr, kind ='heapsort', axis = 1) \n",
    "print (\"\\nOutput sorted array indices along axis 1:\\n\", out_arr2) \n"
   ]
  },
  {
   "cell_type": "code",
   "execution_count": 8,
   "metadata": {},
   "outputs": [
    {
     "name": "stdout",
     "output_type": "stream",
     "text": [
      "initial array :  [1.  1.2 2.2 2.  3.  2. ]\n",
      "final array :  [1.2 2.2]\n"
     ]
    }
   ],
   "source": [
    "\n",
    "# Python code to demonstrate \n",
    "# filtering integers from numpy array\n",
    "# containing integers and float\n",
    " \n",
    "import numpy as np\n",
    " \n",
    "# initialising array\n",
    "ini_array = np.array([1.0, 1.2, 2.2, 2.0, 3.0, 2.0])\n",
    " \n",
    "# printing initial array\n",
    "print (\"initial array : \", str(ini_array))\n",
    " \n",
    "# filtering integers\n",
    "result = ini_array[~np.equal(np.mod(ini_array, 1), 0)]\n",
    " \n",
    "# printing resultant\n",
    "print (\"final array : \", str(result))"
   ]
  },
  {
   "cell_type": "code",
   "execution_count": 10,
   "metadata": {},
   "outputs": [
    {
     "name": "stdout",
     "output_type": "stream",
     "text": [
      "Input array :  [2, 3, 4, 5, 6]\n",
      "The number which we want to insert :  4\n",
      "Output indices to maintain sorted array :  2\n"
     ]
    }
   ],
   "source": [
    "# Python program explaining \n",
    "# searchsorted() function \n",
    "\n",
    "# input array \n",
    "in_arr = [2, 3, 4, 5, 6] \n",
    "print (\"Input array : \", in_arr) \n",
    "\n",
    "# the number which we want to insert \n",
    "num = 4\n",
    "print(\"The number which we want to insert : \", num) \n",
    "\t\n",
    "out_ind = np.searchsorted(in_arr, num) \n",
    "print (\"Output indices to maintain sorted array : \", out_ind) \n"
   ]
  },
  {
   "cell_type": "code",
   "execution_count": 13,
   "metadata": {},
   "outputs": [
    {
     "name": "stdout",
     "output_type": "stream",
     "text": [
      "[40 40 30]\n"
     ]
    }
   ],
   "source": [
    "\n",
    "# create a list \n",
    "num_list = [10, 20, 30, 40, 50] \n",
    "\n",
    "\n",
    "# choose index number 2nd & 3rd element \n",
    "# with 50%-50% probability and other \n",
    "# elements probability set to 0 \n",
    "# using p parameter of the \n",
    "# choice() method so 2nd & \n",
    "# 3rd index elements selected \n",
    "# every time in the list size of 3. \n",
    "number_list = np.random.choice(num_list, 3, \n",
    "\t\t\t\t\t\tp = [0, 0, 0.5, 0.5, 0]) \n",
    "\n",
    "print(number_list)\n"
   ]
  },
  {
   "cell_type": "markdown",
   "metadata": {},
   "source": [
    "Syntax : random.choices(sequence, weights=None, cum_weights=None, k=1)\n",
    "\n",
    "Parameters :\n",
    "1. sequence is a mandatory parameter that can be a list, tuple, or string.\n",
    "2. weights is an optional parameter which is used to weigh the possibility for each value.\n",
    "3. cum_weights is an optional parameter which is used to weigh the possibility for each value but in this the possibility is accumulated\n",
    "4. k is an optional parameter that is used to define the length of the returned lis"
   ]
  },
  {
   "cell_type": "code",
   "execution_count": 14,
   "metadata": {},
   "outputs": [
    {
     "name": "stdout",
     "output_type": "stream",
     "text": [
      "[400, 500, 500, 400, 400]\n"
     ]
    }
   ],
   "source": [
    "import random\n",
    "sampleList = [100, 200, 300, 400, 500]\n",
    "\n",
    "randomList = random.choices(\n",
    "sampleList, weights=(10, 20, 30, 40, 50), k=5)\n",
    "\n",
    "print(randomList)\n"
   ]
  },
  {
   "cell_type": "markdown",
   "metadata": {},
   "source": [
    "numpy.random.uniform(low = 0.0, high = 1.0, size = None)  "
   ]
  },
  {
   "cell_type": "code",
   "execution_count": 15,
   "metadata": {},
   "outputs": [
    {
     "name": "stdout",
     "output_type": "stream",
     "text": [
      "[0.5353329  0.87767793 0.43038041 0.20638613]\n"
     ]
    }
   ],
   "source": [
    "# numpy.random.uniform() method \n",
    "r = np.random.uniform(size=4) \n",
    "  \n",
    "# printing numbers \n",
    "print(r)"
   ]
  },
  {
   "cell_type": "code",
   "execution_count": 16,
   "metadata": {},
   "outputs": [
    {
     "data": {
      "image/png": "[encoded data removed]",
      "text/plain": [
       "<Figure size 640x480 with 1 Axes>"
      ]
     },
     "metadata": {},
     "output_type": "display_data"
    }
   ],
   "source": [
    "import matplotlib.pyplot as plt \n",
    "  \n",
    "# Using geometric() method \n",
    "gfg = np.random.geometric(0.65, 1000) \n",
    "  \n",
    "count, bins, ignored = plt.hist(gfg, 40, density = True) \n",
    "plt.show()"
   ]
  },
  {
   "cell_type": "code",
   "execution_count": 17,
   "metadata": {},
   "outputs": [
    {
     "data": {
      "image/png": "[encoded data removed]",
      "text/plain": [
       "<Figure size 640x480 with 1 Axes>"
      ]
     },
     "metadata": {},
     "output_type": "display_data"
    }
   ],
   "source": [
    "\n",
    "\n",
    "# Using numpy.random.laplace() method \n",
    "gfg = np.random.laplace(1.45, 15, 1000) \n",
    "\n",
    "count, bins, ignored = plt.hist(gfg, 30, density = True) \n",
    "plt.show()\n"
   ]
  },
  {
   "cell_type": "code",
   "execution_count": 18,
   "metadata": {},
   "outputs": [
    {
     "name": "stdout",
     "output_type": "stream",
     "text": [
      "Output matrix :  [[0.48197583 0.07645897 0.92494676]\n",
      " [0.49686792 0.11134205 0.76287407]\n",
      " [0.39557176 0.60375025 0.60585108]\n",
      " [0.22120007 0.53464399 0.51799943]\n",
      " [0.37525031 0.76555216 0.03003124]]\n"
     ]
    }
   ],
   "source": [
    "# Python program explaining \n",
    "# numpy.matlib.rand() function \n",
    "\n",
    "# importing numpy and matrix library \n",
    "import numpy as np \n",
    "import numpy.matlib \n",
    "\n",
    "# more than one argument given \n",
    "out_mat = np.matlib.rand((5, 3), 4) \n",
    "print (\"Output matrix : \", out_mat) \n"
   ]
  },
  {
   "cell_type": "code",
   "execution_count": 19,
   "metadata": {},
   "outputs": [
    {
     "name": "stdout",
     "output_type": "stream",
     "text": [
      "Output matrix :  [[ 0.73776759  1.00023335  1.02687384]\n",
      " [ 0.5108913   2.75965634  1.94578415]\n",
      " [ 2.42574547  1.48849949  1.08053809]\n",
      " [-1.33527843  0.47417632  0.77013786]\n",
      " [-0.7633163  -0.14716391  1.62622041]]\n"
     ]
    }
   ],
   "source": [
    "# Python program explaining \n",
    "# numpy.matlib.randn() function \n",
    "\n",
    "# importing numpy and matrix library \n",
    "import numpy as geek \n",
    "import numpy.matlib \n",
    "\n",
    "# more than one argument given \n",
    "out_mat = geek.matlib.randn((5, 3), 4) \n",
    "print (\"Output matrix : \", out_mat) \n"
   ]
  },
  {
   "cell_type": "code",
   "execution_count": 20,
   "metadata": {},
   "outputs": [
    {
     "name": "stdout",
     "output_type": "stream",
     "text": [
      "Given array:\n",
      "[[45.42436315 52.48558583 10.32924763]\n",
      " [ 5.7439979  50.58220701 25.38213418]]\n",
      "\n",
      "Replace all elements of array which are greater than 30. to 5.25\n",
      "New array :\n",
      "\n",
      "[[ 5.25        5.25       10.32924763]\n",
      " [ 5.7439979   5.25       25.38213418]]\n"
     ]
    }
   ],
   "source": [
    "# Importing Numpy module \n",
    "import numpy as np \n",
    "\n",
    "# Creating a 2-D Numpy array \n",
    "n_arr = np.array([[45.42436315, 52.48558583, 10.32924763], \n",
    "\t\t\t\t[5.7439979, 50.58220701, 25.38213418]]) \n",
    "print(\"Given array:\") \n",
    "print(n_arr) \n",
    "\n",
    "print(\"\\nReplace all elements of array which are greater than 30. to 5.25\") \n",
    "n_arr[n_arr > 30.] = 5.25\n",
    "\n",
    "print(\"New array :\\n\") \n",
    "print(n_arr) \n"
   ]
  },
  {
   "cell_type": "code",
   "execution_count": 21,
   "metadata": {},
   "outputs": [
    {
     "name": "stdout",
     "output_type": "stream",
     "text": [
      "[[1 2 3]\n",
      " [4 5 6]]\n",
      "Indices of elements <4\n",
      "(array([0, 0, 0], dtype=int64), array([0, 1, 2], dtype=int64))\n",
      "Elements which are <4\n",
      "[1 2 3]\n"
     ]
    }
   ],
   "source": [
    "# Python program explaining \n",
    "# where() function \n",
    "\n",
    "import numpy as np \n",
    "\n",
    "# a is an array of integers. \n",
    "a = np.array([[1, 2, 3], [4, 5, 6]]) \n",
    "\n",
    "print(a) \n",
    "\n",
    "print ('Indices of elements <4') \n",
    "\n",
    "b = np.where(a<4) \n",
    "print(b) \n",
    "\n",
    "print(\"Elements which are <4\") \n",
    "print(a[b]) \n"
   ]
  },
  {
   "cell_type": "code",
   "execution_count": 22,
   "metadata": {},
   "outputs": [
    {
     "name": "stdout",
     "output_type": "stream",
     "text": [
      "initial array [ 1  2 -3  4 -5 -6]\n",
      "New resulting array:  [1 2 0 4 0 0]\n"
     ]
    }
   ],
   "source": [
    "# Python code to demonstrate\n",
    "# to replace negative value with 0\n",
    "import numpy as np\n",
    "\n",
    "ini_array1 = np.array([1, 2, -3, 4, -5, -6])\n",
    "\n",
    "# printing initial arrays\n",
    "print(\"initial array\", ini_array1)\n",
    "\n",
    "# code to replace all negative value with 0\n",
    "ini_array1[ini_array1<0] = 0\n",
    "\n",
    "# printing result\n",
    "print(\"New resulting array: \", ini_array1)\n"
   ]
  },
  {
   "cell_type": "code",
   "execution_count": 25,
   "metadata": {},
   "outputs": [
    {
     "name": "stdout",
     "output_type": "stream",
     "text": [
      "Array 1 :\n",
      "[11 10 22 30 33]\n",
      "Array 2 :\n",
      "[ 1 15 60]\n",
      "\n",
      "Take 1 and 15 from Array 2 and put them in\n",
      " 1st and 5th position of Array 1\n",
      "Resultant Array :\n",
      "[ 1 10 22 30 15]\n"
     ]
    }
   ],
   "source": [
    "\n",
    "# Creating 1-D Numpy array \n",
    "a1 = np.array([11, 10, 22, 30, 33]) \n",
    "print(\"Array 1 :\") \n",
    "print(a1) \n",
    "\n",
    "a2 = np.array([1, 15, 60]) \n",
    "print(\"Array 2 :\") \n",
    "print(a2) \n",
    "\n",
    "print(\"\\nTake 1 and 15 from Array 2 and put them in\\n 1st and 5th position of Array 1\") \n",
    "\n",
    "a1.put([0, 4], a2) \n",
    "\n",
    "print(\"Resultant Array :\") \n",
    "print(a1) \n"
   ]
  },
  {
   "cell_type": "code",
   "execution_count": 28,
   "metadata": {},
   "outputs": [
    {
     "name": "stdout",
     "output_type": "stream",
     "text": [
      "Original array:\n",
      "[1 0 2 0 3 0 0 5 6 7 5 0 8]\n",
      "\n",
      "Indices of elements equal to zero of the \n",
      "given 1-D array:\n",
      "[ 1  3  5  6 11]\n"
     ]
    }
   ],
   "source": [
    "# importing Numpy package\n",
    "import numpy as np\n",
    "\n",
    "# creating a 1-D Numpy array\n",
    "n_array = np.array([1, 0, 2, 0, 3, 0, 0, 5,\n",
    "\t\t\t\t\t6, 7, 5, 0, 8])\n",
    "\n",
    "print(\"Original array:\")\n",
    "print(n_array)\n",
    "\n",
    "# finding indices of null elements using np.where()\n",
    "print(\"\\nIndices of elements equal to zero of the \\ngiven 1-D array:\")\n",
    "\n",
    "res = np.where(n_array == 0)[0]\n",
    "print(res)\n"
   ]
  },
  {
   "cell_type": "code",
   "execution_count": 30,
   "metadata": {},
   "outputs": [
    {
     "name": "stdout",
     "output_type": "stream",
     "text": [
      "Given Array :\n",
      "[[10 20 30]\n",
      " [40  5 66]\n",
      " [70 88 94]]\n",
      "\n",
      "Accessed Rows :\n",
      "[[10 20 30]\n",
      " [70 88 94]]\n",
      "\n",
      "Accessed Row :\n",
      "[40  5 66]\n"
     ]
    }
   ],
   "source": [
    "\n",
    "# Creating a 3X3 2-D Numpy array \n",
    "arr = np.array([[10, 20, 30], \n",
    "\t\t\t\t[40, 5, 66], \n",
    "\t\t\t\t[70, 88, 94]]) \n",
    "\n",
    "print(\"Given Array :\") \n",
    "print(arr) \n",
    "\n",
    "# Access the First and Last rows of array \n",
    "res_arr = arr[[0,2]] \n",
    "print(\"\\nAccessed Rows :\") \n",
    "print(res_arr)\n",
    "\n",
    "res_arr = arr[1] \n",
    "print(\"\\nAccessed Row :\") \n",
    "print(res_arr)\n"
   ]
  },
  {
   "cell_type": "code",
   "execution_count": 33,
   "metadata": {},
   "outputs": [
    {
     "name": "stdout",
     "output_type": "stream",
     "text": [
      "Given Array:\n",
      " [[ 1  2  3  4  5]\n",
      " [10 -3 30  4  5]\n",
      " [ 3  2  5 -4  5]\n",
      " [ 9  7  3  6  5]]\n",
      "Result:\n",
      " (array([1, 3], dtype=int64),)\n"
     ]
    }
   ],
   "source": [
    "\n",
    "\n",
    "# create numpy array \n",
    "arr = np.array([[1, 2, 3, 4, 5], \n",
    "\t\t\t\t[10, -3, 30, 4, 5], \n",
    "\t\t\t\t[3, 2, 5, -4, 5], \n",
    "\t\t\t\t[9, 7, 3, 6, 5] ]) \n",
    "\n",
    "# declare specified value \n",
    "X = 6\n",
    "\n",
    "# view array \n",
    "print(\"Given Array:\\n\", arr) \n",
    "\n",
    "# finding out the row numbers \n",
    "output = np.where(numpy.any(arr > X, axis = 1)) \n",
    "\n",
    "# view output \n",
    "print(\"Result:\\n\", output)"
   ]
  }
 ],
 "metadata": {
  "kernelspec": {
   "display_name": "Python 3",
   "language": "python",
   "name": "python3"
  },
  "language_info": {
   "codemirror_mode": {
    "name": "ipython",
    "version": 3
   },
   "file_extension": ".py",
   "mimetype": "text/x-python",
   "name": "python",
   "nbconvert_exporter": "python",
   "pygments_lexer": "ipython3",
   "version": "3.12.4"
  }
 },
 "nbformat": 4,
 "nbformat_minor": 2
}
