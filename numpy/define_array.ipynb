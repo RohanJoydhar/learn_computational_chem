{
 "cells": [
  {
   "cell_type": "code",
   "execution_count": 15,
   "metadata": {},
   "outputs": [],
   "source": [
    "import numpy as np"
   ]
  },
  {
   "cell_type": "code",
   "execution_count": 2,
   "metadata": {},
   "outputs": [
    {
     "name": "stdout",
     "output_type": "stream",
     "text": [
      "[[0. 0. 0. 0.]\n",
      " [0. 0. 0. 0.]\n",
      " [0. 0. 0. 0.]]\n"
     ]
    }
   ],
   "source": [
    "#using empty() function we can create empty array\n",
    "empty_array_2d = np.empty([3, 4])\n",
    "#np.empty(m,n) where m is number of rows and n is number of columns.\n",
    "print(empty_array_2d)"
   ]
  },
  {
   "cell_type": "code",
   "execution_count": 10,
   "metadata": {},
   "outputs": [
    {
     "name": "stdout",
     "output_type": "stream",
     "text": [
      "[[1 1 1 1]\n",
      " [1 1 1 1]\n",
      " [1 1 1 1]]\n"
     ]
    }
   ],
   "source": [
    "#unsing full() function we can create full array of defined number\n",
    "full_array_2d = np.full([3, 4], 1, dtype = int)\n",
    "print(full_array_2d)"
   ]
  },
  {
   "cell_type": "markdown",
   "metadata": {},
   "source": [
    "shape : integer or sequence of integers\n",
    "\n",
    "order  : C_contiguous or F_contiguous\n",
    "\n",
    "         C-contiguous order in memory(last index varies the fastest)\n",
    "\n",
    "         C order means that operating row-rise on the array will be slightly quicker\n",
    "\n",
    "         FORTRAN-contiguous order in memory (first index varies the fastest).\n",
    "         \n",
    "         F order means that column-wise operations will be faster. \n",
    "\n",
    "dtype : [optional, float(byDeafult)] Data type of returned array."
   ]
  },
  {
   "cell_type": "code",
   "execution_count": 17,
   "metadata": {},
   "outputs": [
    {
     "name": "stdout",
     "output_type": "stream",
     "text": [
      "[0 0 0]\n"
     ]
    }
   ],
   "source": [
    "#creating array with zeros() function\n",
    "full_array_1d = np.zeros(3, dtype = int)\n",
    "print(full_array_1d)"
   ]
  },
  {
   "cell_type": "code",
   "execution_count": 18,
   "metadata": {},
   "outputs": [
    {
     "name": "stdout",
     "output_type": "stream",
     "text": [
      "[[0 0 0]\n",
      " [0 0 0]\n",
      " [0 0 0]]\n"
     ]
    }
   ],
   "source": [
    "full_array_2d = np.zeros([3,3], dtype = int)\n",
    "print(full_array_2d)"
   ]
  },
  {
   "cell_type": "code",
   "execution_count": 19,
   "metadata": {},
   "outputs": [
    {
     "name": "stdout",
     "output_type": "stream",
     "text": [
      "[1 1 1]\n"
     ]
    }
   ],
   "source": [
    "#creating array with ones() function\n",
    "full_array_1d = np.ones(3, dtype = int)\n",
    "print(full_array_1d)"
   ]
  },
  {
   "cell_type": "code",
   "execution_count": 20,
   "metadata": {},
   "outputs": [
    {
     "name": "stdout",
     "output_type": "stream",
     "text": [
      "[[1 1 1]\n",
      " [1 1 1]\n",
      " [1 1 1]]\n"
     ]
    }
   ],
   "source": [
    "full_array_2d = np.ones([3,3], dtype = int)\n",
    "print(full_array_2d)"
   ]
  }
 ],
 "metadata": {
  "kernelspec": {
   "display_name": "Python 3",
   "language": "python",
   "name": "python3"
  },
  "language_info": {
   "codemirror_mode": {
    "name": "ipython",
    "version": 3
   },
   "file_extension": ".py",
   "mimetype": "text/x-python",
   "name": "python",
   "nbconvert_exporter": "python",
   "pygments_lexer": "ipython3",
   "version": "3.9.6"
  }
 },
 "nbformat": 4,
 "nbformat_minor": 2
}
