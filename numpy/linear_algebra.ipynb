{
 "cells": [
  {
   "cell_type": "code",
   "execution_count": 1,
   "metadata": {},
   "outputs": [],
   "source": [
    "import numpy as np\n",
    "from numpy import linalg as la"
   ]
  },
  {
   "cell_type": "code",
   "execution_count": 9,
   "metadata": {},
   "outputs": [
    {
     "name": "stdout",
     "output_type": "stream",
     "text": [
      "Vector norm:\n",
      "16.881943016134134\n",
      "Matrix norm:\n",
      "9.539392014169456\n",
      "Matrix norm along particular axis :\n",
      "[3.74165739 8.77496439]\n"
     ]
    }
   ],
   "source": [
    "\n",
    "# initialize vector\n",
    "vec = np.arange(10)\n",
    "\n",
    "# compute norm of vector\n",
    "vec_norm = la.norm(vec)\n",
    "\n",
    "print(\"Vector norm:\")\n",
    "print(vec_norm)\n",
    "\n",
    "# initialize matrix\n",
    "mat = np.array([[ 1, 2, 3],\n",
    "\t\t\t[4, 5, 6]])\n",
    "\n",
    "# compute norm of matrix\n",
    "mat_norm = la.norm(mat)\n",
    "\n",
    "print(\"Matrix norm:\")\n",
    "print(mat_norm)\n",
    "\n",
    "# compute matrix num along axis \n",
    "mat_norm = la.norm(mat, axis = 1)\n",
    " \n",
    "print(\"Matrix norm along particular axis :\")\n",
    "print(mat_norm)\n"
   ]
  },
  {
   "cell_type": "code",
   "execution_count": 10,
   "metadata": {},
   "outputs": [
    {
     "name": "stdout",
     "output_type": "stream",
     "text": [
      "original matrix \n",
      " [[  5  11 -15]\n",
      " [ 12  34 -51]\n",
      " [-24 -43  92]]\n",
      "\n",
      "Q:\n",
      " [[-0.18318583 -0.08610905  0.97929984]\n",
      " [-0.43964598 -0.88381371 -0.15995231]\n",
      " [ 0.87929197 -0.45984624  0.12404465]]\n",
      "\n",
      "R:\n",
      " [[-27.29468813 -54.77256208 106.06459346]\n",
      " [  0.         -11.22347731   4.06028083]\n",
      " [  0.           0.           4.88017756]]\n"
     ]
    }
   ],
   "source": [
    "\n",
    "# Create a numpy array \n",
    "matrix = np.matrix([[5, 11, -15], [12, 34, -51], \n",
    "\t\t\t\t[-24, -43, 92]], dtype=np.int32) \n",
    "\t\n",
    "print(\"original matrix \\n\", matrix) \n",
    "\n",
    "# Find the QR factor of array \n",
    "q, r = la.qr(matrix) \n",
    "print('\\nQ:\\n', q) \n",
    "print('\\nR:\\n', r) \n",
    "\n"
   ]
  },
  {
   "cell_type": "code",
   "execution_count": 11,
   "metadata": {},
   "outputs": [
    {
     "name": "stdout",
     "output_type": "stream",
     "text": [
      "Original matrix: \n",
      " [[4 1 4 2]\n",
      " [3 1 2 0]\n",
      " [3 5 7 1]\n",
      " [0 6 8 4]]\n",
      "Condition number of the matrix:  57.34043866386217\n"
     ]
    }
   ],
   "source": [
    "# Creating a 4X4 matrix \n",
    "matrix = np.matrix([[4, 1, 4, 2], [3, 1, 2, 0], \n",
    "\t\t\t\t[3, 5, 7 ,1], [0, 6, 8, 4]]) \n",
    "\n",
    "print(\"Original matrix: \\n\",matrix) \n",
    "\n",
    "# Output \n",
    "result = la.cond(matrix) \n",
    "print(\"Condition number of the matrix: \", result)  \n"
   ]
  },
  {
   "cell_type": "code",
   "execution_count": 12,
   "metadata": {},
   "outputs": [
    {
     "name": "stdout",
     "output_type": "stream",
     "text": [
      "Printing the Original square array:\n",
      " [[1 2 3]\n",
      " [2 3 4]\n",
      " [4 5 6]]\n",
      "Printing the Eigen values of the given square array:\n",
      " [ 1.08309519e+01 -8.30951895e-01  1.01486082e-16]\n",
      "Printing Right eigenvectors of the given square array:\n",
      " [[ 0.34416959  0.72770285  0.40824829]\n",
      " [ 0.49532111  0.27580256 -0.81649658]\n",
      " [ 0.79762415 -0.62799801  0.40824829]]\n"
     ]
    }
   ],
   "source": [
    "# create numpy 2d-array \n",
    "matrix = np.matrix([[1, 2, 3], \n",
    "\t\t\t[2, 3, 4], \n",
    "\t\t\t[4, 5, 6]]) \n",
    "\n",
    "print(\"Printing the Original square array:\\n\", matrix) \n",
    "\n",
    "# finding eigenvalues and eigenvectors \n",
    "eigenvalue, eigenvector = la.eig(matrix) \n",
    "\n",
    "# printing eigen values \n",
    "print(\"Printing the Eigen values of the given square array:\\n\", eigenvalue) \n",
    "\n",
    "# printing eigen vectors \n",
    "print(\"Printing Right eigenvectors of the given square array:\\n\", eigenvector) \n"
   ]
  },
  {
   "cell_type": "code",
   "execution_count": 15,
   "metadata": {},
   "outputs": [
    {
     "name": "stdout",
     "output_type": "stream",
     "text": [
      "point1 :  [1 2 3]  point2  [1 1 1]  Euclidean distance:  2.23606797749979\n",
      "point1 :  [1 2 3]  point2  [1 1 1]  Euclidean distance:  2.23606797749979\n",
      "point1 :  [1 2 3]  point2  [1 1 1]  Euclidean distance:  2.23606797749979\n"
     ]
    }
   ],
   "source": [
    "#finding Euclidean distance using linalg.norm()\n",
    "# initializing points in\n",
    "point1 = np.array((1, 2, 3))\n",
    "point2 = np.array((1, 1, 1))\n",
    "\n",
    "# calculating Euclidean distance\n",
    "dist = la.norm(point1 - point2)\n",
    "# printing Euclidean distance\n",
    "print(\"point1 : \",point1,\" point2 \", point2,\" Euclidean distance: \",dist)\n",
    "\n",
    "# subtracting vector\n",
    "temp = point1 - point2\n",
    "# sum of the squares\n",
    "sum_sq = np.dot(temp.T, temp)\n",
    "dist = np.sqrt(sum_sq)\n",
    "print(\"point1 : \",point1,\" point2 \", point2,\" Euclidean distance: \",dist)\n",
    "\n",
    "# finding sum of squares\n",
    "sum_sq = np.sum(np.square(point1 - point2))\n",
    "dist = np.sqrt(sum_sq)\n",
    "print(\"point1 : \",point1,\" point2 \", point2,\" Euclidean distance: \",dist)"
   ]
  }
 ],
 "metadata": {
  "kernelspec": {
   "display_name": "Python 3",
   "language": "python",
   "name": "python3"
  },
  "language_info": {
   "codemirror_mode": {
    "name": "ipython",
    "version": 3
   },
   "file_extension": ".py",
   "mimetype": "text/x-python",
   "name": "python",
   "nbconvert_exporter": "python",
   "pygments_lexer": "ipython3",
   "version": "3.12.4"
  }
 },
 "nbformat": 4,
 "nbformat_minor": 2
}
