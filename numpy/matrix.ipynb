{
 "cells": [
  {
   "cell_type": "code",
   "execution_count": 4,
   "metadata": {},
   "outputs": [],
   "source": [
    "import numpy as np\n",
    "from numpy import linalg as la"
   ]
  },
  {
   "cell_type": "markdown",
   "metadata": {},
   "source": [
    "numpy.matrix(data, dtype = None)\n",
    "data  : data needs to be array-like or string \n",
    "dtype : Data type of returned array."
   ]
  },
  {
   "cell_type": "code",
   "execution_count": 7,
   "metadata": {},
   "outputs": [
    {
     "name": "stdout",
     "output_type": "stream",
     "text": [
      "Matrix: \n",
      " [[1 2 3]\n",
      " [4 5 6]\n",
      " [7 8 9]]\n",
      "max:  9\n",
      "min:  1\n"
     ]
    }
   ],
   "source": [
    "# import the important module in python \n",
    "\n",
    "# make a matrix with numpy \n",
    "mtx = np.matrix('[1, 2, 3; 4, 5, 6; 7, 8, 9]') \n",
    "\n",
    "print(\"Matrix: \\n\" ,mtx)\n",
    "# # max() function will give the largest element of matrix\n",
    "mtx_max = mtx.max() \n",
    "\t\n",
    "print(\"max: \",mtx_max) \n",
    "# min() function will give the smallest element of matrix\n",
    "mtx_min = mtx.min() \n",
    "\t\n",
    "print(\"min: \",mtx_min) \n"
   ]
  },
  {
   "cell_type": "code",
   "execution_count": 8,
   "metadata": {},
   "outputs": [
    {
     "name": "stdout",
     "output_type": "stream",
     "text": [
      "[[1 2 3]\n",
      " [4 5 6]\n",
      " [7 8 9]]\n",
      "(3, 3)\n"
     ]
    }
   ],
   "source": [
    "#using reshape function for generate proper matrix shape\n",
    "matrix= np.arange(1,10).reshape((3, 3))\n",
    "\n",
    "print(matrix) # Original matrix\n",
    "print(matrix.shape) # Number of rows and columns of the said matrix"
   ]
  },
  {
   "cell_type": "code",
   "execution_count": 9,
   "metadata": {},
   "outputs": [
    {
     "name": "stdout",
     "output_type": "stream",
     "text": [
      "Rows: 2\n",
      "Columns: 3\n",
      "Rows: 2\n",
      "Columns: 3\n"
     ]
    }
   ],
   "source": [
    "matrix = np.array([[4, 3, 2], [8, 7, 6]])\n",
    "rows = matrix.shape[0]\n",
    "columns = matrix.shape[1]\n",
    "\n",
    "print(\"Rows:\", rows)\n",
    "print(\"Columns:\", columns)\n",
    "\n",
    "rows, columns = matrix.shape\n",
    "print(\"Rows:\", rows)\n",
    "print(\"Columns:\", columns)"
   ]
  },
  {
   "cell_type": "markdown",
   "metadata": {},
   "source": [
    "Syntax : matrix.take(index, axis); Return : Return matrix of selected indexe"
   ]
  },
  {
   "cell_type": "code",
   "execution_count": 28,
   "metadata": {},
   "outputs": [
    {
     "name": "stdout",
     "output_type": "stream",
     "text": [
      "[[ 4  1 12  3  4  6  7]]\n",
      "[[12]]\n",
      "2 by 3 matrix: \n",
      " [[ 4  1 12]\n",
      " [ 3  6  7]\n",
      " [ 1  9  5]]\n",
      "[[1 6 9]]\n"
     ]
    }
   ],
   "source": [
    "# make matrix with numpy \n",
    "matrix = np.matrix('[4, 1, 12, 3, 4, 6, 7]') \n",
    "\t\t\t\n",
    "# applying matrix.take() method \n",
    "mat_att = matrix.take(2)\n",
    "print(matrix) \n",
    "print(mat_att)\n",
    "\n",
    "# make matrix with numpy \n",
    "matrix = np.matrix('[4, 1, 12; 3, 6, 7; 1, 9, 5]') \n",
    "\n",
    "mat_att = matrix.take(1, 1) \n",
    "print(\"2 by 3 matrix: \\n\",matrix)\n",
    "print(mat_att) \n"
   ]
  },
  {
   "cell_type": "code",
   "execution_count": 31,
   "metadata": {},
   "outputs": [
    {
     "name": "stdout",
     "output_type": "stream",
     "text": [
      "[[ 4  1  9]\n",
      " [12  3  1]\n",
      " [ 4  5  6]] \n",
      " [[14]\n",
      " [16]\n",
      " [15]]\n"
     ]
    }
   ],
   "source": [
    "# make matrix with numpy \n",
    "matrix = np.matrix('[4, 1, 9; 12, 3, 1; 4, 5, 6]') \n",
    "\t\t\t\n",
    "# applying matrix.sum() method 1 for row and 0 for column\n",
    "mat_sum = matrix.sum(axis = 1) \n",
    "\n",
    "print(matrix,\"\\n\", mat_sum) \n"
   ]
  },
  {
   "cell_type": "code",
   "execution_count": 34,
   "metadata": {},
   "outputs": [
    {
     "name": "stdout",
     "output_type": "stream",
     "text": [
      "Numpy Matrix is: \n",
      " [[ 55  25  15  41]\n",
      " [ 30  44   2  54]\n",
      " [ 11  45  77  11]\n",
      " [ 11 212   4  20]]\n",
      "diagonal element given 4X4 matrix:  [55 44 77 20]\n",
      "Trace of given 4X4 matrix:  196\n"
     ]
    }
   ],
   "source": [
    "# creating a 4X4 Numpy matrix \n",
    "matrix = np.array([[55, 25, 15, 41], \n",
    "\t\t\t\t\t[30, 44, 2, 54], \n",
    "\t\t\t\t\t[11, 45, 77, 11], \n",
    "\t\t\t\t\t[11, 212, 4, 20]]) \n",
    "\n",
    "# Displaying the Matrix \n",
    "print(\"Numpy Matrix is: \\n\", matrix)\n",
    "# selecting diagonal\n",
    "diagonal = np.diagonal(matrix)\n",
    "# calculating the Trace of a matrix \n",
    "trace = np.trace(matrix) \n",
    "print(\"diagonal element given 4X4 matrix: \", diagonal) \n",
    "print(\"Trace of given 4X4 matrix: \", trace) "
   ]
  },
  {
   "cell_type": "code",
   "execution_count": 38,
   "metadata": {},
   "outputs": [
    {
     "name": "stdout",
     "output_type": "stream",
     "text": [
      "Printing elements of first matrix \n",
      " [[1 2]\n",
      " [3 4]]\n",
      "Printing elements of second matrix \n",
      " [[4 5]\n",
      " [6 7]]\n",
      "Subtraction of two matrix \n",
      " [[-3 -3]\n",
      " [-3 -3]]\n",
      "matrix a \n",
      " [[1 2]\n",
      " [3 4]] \n",
      " matrix b \n",
      " [[5 6]\n",
      " [7 8]]\n",
      "after subraction \n",
      " [[-4 -4]\n",
      " [-4 -4]]\n"
     ]
    }
   ],
   "source": [
    "# creating first matrix\n",
    "A = np.array([[1, 2], [3, 4]])\n",
    " \n",
    "# creating second matrix\n",
    "B = np.array([[4, 5], [6, 7]])\n",
    "\n",
    "print(\"Printing elements of first matrix \\n\", A)\n",
    "print(\"Printing elements of second matrix \\n\", B)\n",
    " \n",
    "# subtracting two matrix\n",
    "sub_matrix = np.subtract(A, B)\n",
    "print(\"Subtraction of two matrix \\n\", sub_matrix)\n",
    "\n",
    "\n",
    "# Define two matrices\n",
    "matrix_a = np.array([[1, 2], [3, 4]])\n",
    "matrix_b = np.array([[5, 6], [7, 8]])\n",
    "print(\"matrix a \\n\", matrix_a, \"\\nmatrix b \\n\", matrix_b)\n",
    "# Subtract the matrices\n",
    "result = matrix_a - matrix_b\n",
    "print(\"after subraction \\n\", result)"
   ]
  },
  {
   "cell_type": "code",
   "execution_count": 69,
   "metadata": {},
   "outputs": [
    {
     "name": "stdout",
     "output_type": "stream",
     "text": [
      "initial_array : \n",
      " [[ 1  2  3]\n",
      " [45  4  7]\n",
      " [ 9  6 10]]\n",
      "resultant array \n",
      " [[ 1  2  3  1]\n",
      " [45  4  7  2]\n",
      " [ 9  6 10  3]]\n",
      "resultant array \n",
      " [[ 1  2  3  1]\n",
      " [45  4  7  2]\n",
      " [ 9  6 10  3]]\n",
      "resultant array \n",
      " [[ 1  2  3  1  2  3]\n",
      " [ 1  2  3 45  4  7]\n",
      " [ 1  2  3  9  6 10]]\n",
      "resultant array \n",
      " [[ 1  2  3  1]\n",
      " [45  4  7  2]\n",
      " [ 9  6 10  3]]\n",
      "resultant array \n",
      " [[ 1  2  3  1]\n",
      " [45  4  7  2]\n",
      " [ 9  6 10  3]]\n"
     ]
    }
   ],
   "source": [
    "matrix = np.array([[1, 2, 3], [45, 4, 7], [9, 6, 10]])\n",
    " \n",
    "# printing initial array\n",
    "print(\"initial_array : \\n\", matrix);\n",
    " \n",
    "# Array to be added as column\n",
    "column_to_be_added = np.array([[1], [2], [3]])\n",
    " \n",
    "# Adding column to array using append() method\n",
    "new_matrix = np.append(matrix, column_to_be_added, axis = 1) \n",
    "print (\"resultant array \\n\",new_matrix)\n",
    "\n",
    "# Adding column to array using append() method\n",
    "new_matrix = np.concatenate([matrix, column_to_be_added], axis=1)\n",
    "print (\"resultant array \\n\",new_matrix)\n",
    "\n",
    "# Adding column to array using append() method\n",
    "#new_matrix = np.insert(matrix, 0, column_to_be_added, axis=1)\n",
    "#print (\"resultant array \\n\", new_matrix)\n",
    " \n",
    "# Adding column to numpy array\n",
    "new_matrix = np.hstack((matrix, column_to_be_added))\n",
    "print (\"resultant array \\n\", new_matrix)\n",
    "\n",
    "# Adding column to numpy array\n",
    "new_matrix = np.column_stack((matrix, column_to_be_added))\n",
    "print (\"resultant array \\n\", new_matrix)"
   ]
  },
  {
   "cell_type": "code",
   "execution_count": 92,
   "metadata": {},
   "outputs": [
    {
     "name": "stdout",
     "output_type": "stream",
     "text": [
      "initial_array : \n",
      " [[ 1  2  3]\n",
      " [45  4  7]\n",
      " [ 9  6 10]]\n",
      "resultant array \n",
      " [[ 1  2  3]\n",
      " [45  4  7]\n",
      " [ 9  6 10]\n",
      " [ 1  2  3]]\n",
      "resultant array \n",
      " [[ 1  2  3]\n",
      " [45  4  7]\n",
      " [ 9  6 10]\n",
      " [ 1  2  3]]\n",
      "resultant array \n",
      " [[ 1  2  3]\n",
      " [45  4  7]\n",
      " [ 9  6 10]\n",
      " [ 1  2  3]]\n",
      "Empty array: \n",
      " []\n",
      "resultant array \n",
      " [[10 20]\n",
      " [40 50]]\n"
     ]
    }
   ],
   "source": [
    "ini_array = np.array([[1, 2, 3], [45, 4, 7], [9, 6, 10]])\n",
    " \n",
    "# printing initial array\n",
    "print(\"initial_array : \\n\", ini_array);\n",
    " \n",
    "# Array to be added as row\n",
    "row_to_be_added = np.array([1, 2, 3])\n",
    " \n",
    "# Adding row to numpy array\n",
    "result = np.r_[ini_array,[row_to_be_added]]\n",
    "print(\"resultant array \\n\", result)\n",
    "\n",
    "#last row\n",
    "row_n = arr.shape[1] \n",
    "arr = np.insert(ini_array,row_n,[row_to_be_added],axis= 0)\n",
    "print(\"resultant array \\n\", result)\n",
    "\n",
    "# Adding row to numpy array\n",
    "result = np.vstack ((ini_array, row_to_be_added))\n",
    "print(\"resultant array \\n\", result)\n",
    "\n",
    "empt_array = np.empty((0,2), int)\n",
    "print(\"Empty array: \\n\", empt_array)\n",
    "empt_array = np.append(empt_array, np.array([[10,20]]), axis=0)\n",
    "empt_array = np.append(empt_array, np.array([[40,50]]), axis=0)\n",
    "print(\"resultant array \\n\", empt_array)\n"
   ]
  },
  {
   "cell_type": "code",
   "execution_count": 3,
   "metadata": {},
   "outputs": [
    {
     "name": "stdout",
     "output_type": "stream",
     "text": [
      "Matrix p : \n",
      " [[1 2]\n",
      " [2 3]\n",
      " [4 5]]\n",
      "Matrix q : \n",
      " [[4 5 1]\n",
      " [6 7 2]]\n",
      "The dot product is :\n",
      " [[16 19  5]\n",
      " [26 31  8]\n",
      " [46 55 14]]\n",
      "The dot product is :\n",
      " [[16 19  5]\n",
      " [26 31  8]\n",
      " [46 55 14]]\n"
     ]
    }
   ],
   "source": [
    "# creating two matrices \n",
    "p = np.matrix([[1, 2], [2, 3], [4, 5]])\n",
    "q = np.matrix([[4, 5, 1], [6, 7, 2]]) \n",
    "print(\"Matrix p : \\n\",p) \n",
    "\n",
    "print(\"Matrix q : \\n\",q)  \n",
    "  \n",
    "# computing product \n",
    "result = np.dot(p, q) \n",
    "print(\"The dot product is :\\n\",result) \n",
    "\n",
    "result =  p @ q\n",
    "print(\"The dot product is :\\n\",result) "
   ]
  },
  {
   "cell_type": "code",
   "execution_count": 13,
   "metadata": {},
   "outputs": [
    {
     "name": "stdout",
     "output_type": "stream",
     "text": [
      "matrix: /n [[1 2 3]\n",
      " [4 5 6]\n",
      " [7 9 9]]\n",
      "eigenvalue is:  [16.47853607 -1.16635961 -0.31217646]\n",
      "determinant is:  5.999999999999997\n",
      "inverse matrix is \n",
      " [[-1.5         1.5        -0.5       ]\n",
      " [ 1.         -2.          1.        ]\n",
      " [ 0.16666667  0.83333333 -0.5       ]]\n"
     ]
    }
   ],
   "source": [
    "matrix = np.matrix([[1, 2, 3],[4, 5, 6], [7, 9, 9]]) \n",
    "print(\"matrix: /n\", matrix)\n",
    "#calculationg eigenvalues\n",
    "eigenval = la.eigvals(matrix)\n",
    "print(\"eigenvalue is: \", eigenval)\n",
    "#calculating determinant\n",
    "determnt = la.det(matrix)\n",
    "print(\"determinant is: \", determnt)\n",
    "#calculating inverse\n",
    "inv_matrix = la.inv(matrix)\n",
    "print(\"inverse matrix is \\n\", inv_matrix)"
   ]
  },
  {
   "cell_type": "code",
   "execution_count": 19,
   "metadata": {},
   "outputs": [
    {
     "name": "stdout",
     "output_type": "stream",
     "text": [
      "Unique Values: [ 5  8  9 10 20]\n",
      "Frequency Values: [1 2 1 2 2]\n",
      "The values and their frequency are:\n",
      " [[ 5  8  9 10 20]\n",
      " [ 1  2  1  2  2]]\n",
      "The values and their frequency are in transpose form:\n",
      " [[ 5  1]\n",
      " [ 8  2]\n",
      " [ 9  1]\n",
      " [10  2]\n",
      " [20  2]]\n",
      "Unique Values: [ 5  8  9 10 20]\n",
      "Counts: [1 2 1 2 2]\n",
      "Unique Values: [10, 20, 5, 8, 9]\n",
      "Counts: [2, 2, 1, 2, 1]\n"
     ]
    }
   ],
   "source": [
    "ini_array = np.array([10, 20, 5,10, 8, 20,8, 9])\n",
    " \n",
    "# Get a tuple of unique values \n",
    "# and their frequency in\n",
    "# numpy array\n",
    "unique, frequency = np.unique(ini_array, return_counts = True)\n",
    "# print unique values array\n",
    "print(\"Unique Values:\", unique)\n",
    "# print frequency array\n",
    "print(\"Frequency Values:\",frequency)\n",
    "\n",
    " \n",
    "# convert both into one numpy array\n",
    "count = np.asarray((unique, frequency ))\n",
    "print(\"The values and their frequency are:\\n\",count)\n",
    "\n",
    "# convert both into one numpy array and then transpose it\n",
    "count = np.asarray((unique,frequency )).T\n",
    "print(\"The values and their frequency are in transpose form:\\n\",count)\n",
    "\n",
    "#Get unique values and their counts using bincount\n",
    "unique_values = np.unique(ini_array)\n",
    "counts = np.bincount(ini_array)\n",
    " \n",
    "# Display the results\n",
    "print(\"Unique Values:\", unique_values)\n",
    "print(\"Counts:\", counts[unique_values])\n",
    "\n",
    "from collections import Counter\n",
    "# Use Counter to count occurrences\n",
    "counts = Counter(ini_array)\n",
    "# Display the results\n",
    "print(\"Unique Values:\", list(counts.keys()))\n",
    "print(\"Counts:\", list(counts.values()))"
   ]
  },
  {
   "cell_type": "code",
   "execution_count": 20,
   "metadata": {},
   "outputs": [
    {
     "name": "stdout",
     "output_type": "stream",
     "text": [
      "Printing First matrix: \n",
      " [[2.+3.j 4.+5.j]\n",
      " [4.+5.j 6.+7.j]]\n",
      "Printing Second matrix: \n",
      " [[8. +7.j 5. +6.j]\n",
      " [9.+10.j 1. +2.j]]\n",
      "Product of first and second matrices are: \n",
      " (193-11j)\n"
     ]
    }
   ],
   "source": [
    "# creating matrix of complex number\n",
    "x = np.array([[2+3j, 4+5j], [4+5j, 6+7j]])\n",
    "y = np.array([[8+7j, 5+6j], [9+10j, 1+2j]])\n",
    "print(\"Printing First matrix: \\n\",x)\n",
    "print(\"Printing Second matrix: \\n\",y)\n",
    "# vector dot product of two matrices\n",
    "z = np.vdot(x, y)\n",
    "print(\"Product of first and second matrices are: \\n\",z)"
   ]
  },
  {
   "cell_type": "code",
   "execution_count": 26,
   "metadata": {},
   "outputs": [
    {
     "name": "stdout",
     "output_type": "stream",
     "text": [
      "Original matrix1: \n",
      " [[2 8 2]\n",
      " [3 4 8]\n",
      " [0 2 1]] shape (3, 3)\n",
      "Original matrix2: \n",
      " [[2 1 1]\n",
      " [0 1 0]\n",
      " [2 3 0]] shape (3, 3)\n",
      "Outer Product of the two matrix is: \n",
      " [[ 4  2  2  0  2  0  4  6  0]\n",
      " [16  8  8  0  8  0 16 24  0]\n",
      " [ 4  2  2  0  2  0  4  6  0]\n",
      " [ 6  3  3  0  3  0  6  9  0]\n",
      " [ 8  4  4  0  4  0  8 12  0]\n",
      " [16  8  8  0  8  0 16 24  0]\n",
      " [ 0  0  0  0  0  0  0  0  0]\n",
      " [ 4  2  2  0  2  0  4  6  0]\n",
      " [ 2  1  1  0  1  0  2  3  0]] shape (9, 9)\n"
     ]
    }
   ],
   "source": [
    "# Creating two 3-D matrix\n",
    "matrix1 = np.array([[2, 8, 2], [3, 4, 8], [0, 2, 1]])\n",
    "matrix2 = np.array([[2, 1, 1], [0, 1, 0], [2, 3, 0]])\n",
    "print(\"Original matrix1: \\n\",matrix1,\"shape\",matrix1.shape)\n",
    "print(\"Original matrix2: \\n\",matrix2,\"shape\", matrix2.shape)\n",
    "result = np.outer(matrix1, matrix2)\n",
    "print(\"Outer Product of the two matrix is: \\n\",result,\"shape\",result.shape)\n"
   ]
  },
  {
   "cell_type": "code",
   "execution_count": 32,
   "metadata": {},
   "outputs": [
    {
     "name": "stdout",
     "output_type": "stream",
     "text": [
      "a =  [2 6]\n",
      "b =  [ 3 10]\n",
      "Outer product of vectors a and b\n",
      "[[ 6 20]\n",
      " [18 60]]\n"
     ]
    }
   ],
   "source": [
    "# Vectors \n",
    "a = np.array([2, 6]) \n",
    "b = np.array([3, 10]) \n",
    "print(\"a = \", a) \n",
    "print(\"b = \", b) \n",
    "# Outer product of vectors \n",
    "print(\"Outer product of vectors a and b\") \n",
    "print(np.outer(a, b)) "
   ]
  },
  {
   "cell_type": "code",
   "execution_count": 34,
   "metadata": {},
   "outputs": [
    {
     "name": "stdout",
     "output_type": "stream",
     "text": [
      "Vectors :\n",
      "a =  [3 6]\n",
      "b =  [ 9 10]\n",
      "Cross product of vectors a and b\n",
      "-24\n",
      "Matrices :\n",
      "x = [[2 6 9]\n",
      " [2 7 3]]\n",
      "y = [[ 7  5  6]\n",
      " [ 3 12  3]]\n",
      "Cross product of matrices x and y\n",
      "[[ -9  51 -32]\n",
      " [-15   3   3]]\n"
     ]
    }
   ],
   "source": [
    "# Vectors \n",
    "a = np.array([3, 6]) \n",
    "b = np.array([9, 10]) \n",
    "print(\"Vectors :\") \n",
    "print(\"a = \", a) \n",
    "print(\"b = \", b) \n",
    "# Cross product of vectors \n",
    "print(\"Cross product of vectors a and b\") \n",
    "print(np.cross(a, b)) \n",
    "# Matrices \n",
    "x = np.array([[2, 6, 9], [2, 7, 3]]) \n",
    "y = np.array([[7, 5, 6], [3, 12, 3]]) \n",
    "print(\"Matrices :\") \n",
    "print(\"x =\", x) \n",
    "print(\"y =\", y) \n",
    "\n",
    "# Cross product of matrices \n",
    "print(\"Cross product of matrices x and y\") \n",
    "print(np.cross(x, y)) \n"
   ]
  },
  {
   "cell_type": "code",
   "execution_count": 37,
   "metadata": {},
   "outputs": [
    {
     "name": "stdout",
     "output_type": "stream",
     "text": [
      "[2 1 1 4]\n",
      "[2 2 1 1]\n",
      "Covariance matrix of the said arrays:\n",
      " [[ 2.         -0.33333333]\n",
      " [-0.33333333  0.33333333]]\n",
      "shape of matrix x and y: (4, 2)\n",
      "shape of covariance matrix: (4, 4)\n",
      "[[ 0.88445  0.51205  0.2793  -0.36575]\n",
      " [ 0.51205  0.29645  0.1617  -0.21175]\n",
      " [ 0.2793   0.1617   0.0882  -0.1155 ]\n",
      " [-0.36575 -0.21175 -0.1155   0.15125]]\n"
     ]
    }
   ],
   "source": [
    "array1 = np.array([2, 1, 1, 4]) \n",
    "array2 = np.array([2, 2, 1, 1])  \n",
    "# Original array1 \n",
    "print(array1) \n",
    "  \n",
    "# Original array2 \n",
    "print(array2) \n",
    "  \n",
    "# Covariance matrix \n",
    "print(\"Covariance matrix of the said arrays:\\n\",  \n",
    "      np.cov(array1, array2)) \n",
    "\t\n",
    "x = [1.23, 2.12, 3.34, 4.5] \n",
    "y = [2.56, 2.89, 3.76, 3.95] \n",
    "\t\n",
    "# find out covariance with respect rows \n",
    "#stack vertically rows\n",
    "cov_mat = np.stack((x, y), axis = 1) \n",
    "\t\n",
    "print(\"shape of matrix x and y:\", \n",
    "\tnp.shape(cov_mat)) \n",
    "\n",
    "print(\"shape of covariance matrix:\", \n",
    "\tnp.shape(np.cov(cov_mat))) \n",
    "\n",
    "print(np.cov(cov_mat))\n"
   ]
  },
  {
   "cell_type": "code",
   "execution_count": 38,
   "metadata": {},
   "outputs": [
    {
     "name": "stdout",
     "output_type": "stream",
     "text": [
      "Array1:\n",
      " [[1 2]\n",
      " [3 4]]\n",
      "\n",
      "Array2:\n",
      " [[5 6]\n",
      " [7 8]]\n",
      "\n",
      "Array1 ⊗ Array2:\n",
      "[[ 5  6 10 12]\n",
      " [ 7  8 14 16]\n",
      " [15 18 20 24]\n",
      " [21 24 28 32]]\n"
     ]
    }
   ],
   "source": [
    "# Creating arrays\n",
    "array1 = np.array([[1, 2], [3, 4]])\n",
    "print('Array1:\\n', array1)\n",
    " \n",
    "array2 = np.array([[5, 6], [7, 8]])\n",
    "print('\\nArray2:\\n', array2)\n",
    " \n",
    "# Computing the Kronecker Product\n",
    "kroneckerProduct = np.kron(array1, array2)\n",
    "print('\\nArray1 ⊗ Array2:')\n",
    "print(kroneckerProduct)"
   ]
  },
  {
   "cell_type": "code",
   "execution_count": 39,
   "metadata": {},
   "outputs": [
    {
     "name": "stdout",
     "output_type": "stream",
     "text": [
      "matrix: \n",
      " [[ 4  1  9]\n",
      " [12  3  1]\n",
      " [ 4  5  6]]\n",
      "list :  [[4, 1, 9], [12, 3, 1], [4, 5, 6]]\n"
     ]
    }
   ],
   "source": [
    "# make matrix with numpy \n",
    "matrix = np.matrix('[4, 1, 9; 12, 3, 1; 4, 5, 6]') \n",
    "              \n",
    "# applying matrix.tolist() method \n",
    "matrix_lst = matrix.tolist() \n",
    "print(\"matrix: \\n\",matrix)\n",
    "print(\"list : \", matrix_lst)"
   ]
  }
 ],
 "metadata": {
  "kernelspec": {
   "display_name": "Python 3",
   "language": "python",
   "name": "python3"
  },
  "language_info": {
   "codemirror_mode": {
    "name": "ipython",
    "version": 3
   },
   "file_extension": ".py",
   "mimetype": "text/x-python",
   "name": "python",
   "nbconvert_exporter": "python",
   "pygments_lexer": "ipython3",
   "version": "3.12.4"
  }
 },
 "nbformat": 4,
 "nbformat_minor": 2
}
