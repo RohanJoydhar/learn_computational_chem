{
 "cells": [
  {
   "cell_type": "code",
   "execution_count": 7,
   "metadata": {},
   "outputs": [],
   "source": [
    "from rdkit import Chem\n",
    "from rdkit.Chem import rdchem"
   ]
  },
  {
   "cell_type": "code",
   "execution_count": 20,
   "metadata": {},
   "outputs": [
    {
     "data": {
      "image/png": "[encoded data removed]",
      "text/plain": [
       "<rdkit.Chem.rdchem.Mol at 0x1a07cdd9690>"
      ]
     },
     "execution_count": 20,
     "metadata": {},
     "output_type": "execute_result"
    }
   ],
   "source": [
    "# Sample SMILES string for testing\n",
    "smiles = 'CCN(=O)=O'  # Example molecule: Nitramine\n",
    "mol = Chem.MolFromSmiles(smiles)\n",
    "mol"
   ]
  },
  {
   "cell_type": "markdown",
   "metadata": {},
   "source": [
    "# Molecular Sanitization\n",
    "The molecule parsing functions all, by default, perform a “sanitization” operation on the molecules read. The idea is to generate useful computed properties (like hybridization, ring membership, etc.) for the rest of the code and to ensure that the molecules are “reasonable”: that they can be represented with octet-complete Lewis dot structures.\n",
    "\n",
    "1. clearComputedProps: This step ensures a clean slate by removing any previously computed properties from the molecule's atoms and bonds.\n",
    "2. cleanUp: This focuses on fixing non-standard valence states, such as transforming neutral five-valent nitrogen or phosphorus into more chemically correct zwitterionic forms.\n",
    "\n",
    "3. cleanUpOrganometallics: Specifically addresses unusual bonding situations in organometallic compounds by converting hypervalent atom-metal bonds into dative bonds.\n",
    "\n",
    "4. updatePropertyCache: This calculates both explicit and implicit valences of atoms, detecting any incorrect valences and flagging them.\n",
    "\n",
    "5. symmetrizeSSSR: Runs the smallest set of smallest rings (SSSR) algorithm, an important step for determining the ring structures of the molecule, ensuring they are appropriately symmetrized.\n",
    "\n",
    "6. Kekulize: This converts aromatic bonds in rings into their Kekulé form, raising exceptions if the structure cannot be appropriately Kekulized (if, for example, aromatic bonds exist outside of rings).\n",
    "\n",
    "7. assignRadicals: Calculates the number of radical electrons on atoms, which is crucial for accurately representing molecules with radical species.\n",
    "\n",
    "8. setAromaticity: Sets the aromatic flag on atoms and bonds, identifies aromatic rings and adjusts bond orders where appropriate.\n",
    "\n",
    "9. setConjugation: Identifies conjugated bonds, ensuring that systems like alternating single and double bonds are represented correctly.\n",
    "\n",
    "10. setHybridization: Determines the hybridization state of each atom, which affects how atoms bond and orient in 3D space.\n",
    "\n",
    "11. cleanupChirality: This step removes chiral tags from atoms that aren't sp3 hybridized, ensuring stereochemistry is only applied where it makes sense.\n",
    "\n",
    "12. adjustHs: Adds explicit hydrogens as necessary to ensure that heteroatoms (like nitrogen in pyrrole) are correctly handled.\n",
    "\n",
    "13. updatePropertyCache (again): A second call to this step ensures that any changes made during sanitization (like adding hydrogens) are reflected in the molecule’s valence calculations."
   ]
  },
  {
   "cell_type": "code",
   "execution_count": 9,
   "metadata": {},
   "outputs": [],
   "source": [
    "# Remove any computed properties\n",
    "def clear_computed_props(mol):\n",
    "    mol.ClearComputedProps()"
   ]
  },
  {
   "cell_type": "code",
   "execution_count": 24,
   "metadata": {},
   "outputs": [],
   "source": [
    "# Sanitize molecule with all the available options.\n",
    "# You can customize this by turning on or off different steps.\n",
    "\n",
    "def sanitize_molecule(mol, sanitize_flags):\n",
    "    try:\n",
    "        # Apply specific sanitization steps\n",
    "        Chem.SanitizeMol(mol, sanitize_flags)\n",
    "        print(\"Sanitization successful.\")\n",
    "        print(Chem.MolToSmiles(mol), \"\\n\")\n",
    "    except Exception as e:\n",
    "        print(f\"Sanitization failed: {e}\")"
   ]
  },
  {
   "cell_type": "code",
   "execution_count": 16,
   "metadata": {},
   "outputs": [],
   "source": [
    "# (1) Clear Computed Properties\n",
    "clear_computed_props(mol)"
   ]
  },
  {
   "cell_type": "code",
   "execution_count": 25,
   "metadata": {},
   "outputs": [
    {
     "name": "stdout",
     "output_type": "stream",
     "text": [
      "Sanitization successful.\n",
      "CC[N+](=O)[O-] \n",
      "\n"
     ]
    }
   ],
   "source": [
    "# (2) Cleaning Up (standard valence adjustments)\n",
    "sanitize_molecule(mol, Chem.SanitizeFlags.SANITIZE_CLEANUP)"
   ]
  },
  {
   "cell_type": "code",
   "execution_count": 28,
   "metadata": {},
   "outputs": [
    {
     "name": "stdout",
     "output_type": "stream",
     "text": [
      "Sanitization successful.\n",
      "CC[N+](=O)[O-] \n",
      "\n"
     ]
    }
   ],
   "source": [
    "#(3) Update Property Cache (calculate explicit and implicit valences)\n",
    "sanitize_molecule(mol, Chem.SanitizeFlags.SANITIZE_PROPERTIES)\n"
   ]
  },
  {
   "cell_type": "code",
   "execution_count": 29,
   "metadata": {},
   "outputs": [
    {
     "name": "stdout",
     "output_type": "stream",
     "text": [
      "Sanitization successful.\n",
      "CC[N+](=O)[O-] \n",
      "\n"
     ]
    }
   ],
   "source": [
    "# (4) Symmetrize Smallest Set of Smallest Rings (SSSR)\n",
    "sanitize_molecule(mol, Chem.SanitizeFlags.SANITIZE_SYMMRINGS)"
   ]
  },
  {
   "cell_type": "code",
   "execution_count": 30,
   "metadata": {},
   "outputs": [
    {
     "name": "stdout",
     "output_type": "stream",
     "text": [
      "Sanitization successful.\n",
      "CC[N+](=O)[O-] \n",
      "\n"
     ]
    }
   ],
   "source": [
    "# (5) Kekulize (convert aromatic rings to Kekule forms)\n",
    "sanitize_molecule(mol, Chem.SanitizeFlags.SANITIZE_KEKULIZE)"
   ]
  },
  {
   "cell_type": "code",
   "execution_count": 32,
   "metadata": {},
   "outputs": [
    {
     "name": "stdout",
     "output_type": "stream",
     "text": [
      "Sanitization successful.\n",
      "CC[N+](=O)[O-] \n",
      "\n"
     ]
    }
   ],
   "source": [
    "# (6) Set Aromaticity (identify aromatic rings)\n",
    "sanitize_molecule(mol, Chem.SanitizeFlags.SANITIZE_SETAROMATICITY)"
   ]
  },
  {
   "cell_type": "code",
   "execution_count": 34,
   "metadata": {},
   "outputs": [
    {
     "name": "stdout",
     "output_type": "stream",
     "text": [
      "Sanitization successful.\n",
      "CC[N+](=O)[O-] \n",
      "\n"
     ]
    }
   ],
   "source": [
    "# (7) Set Conjugation (identify conjugated bonds)\n",
    "sanitize_molecule(mol, Chem.SanitizeFlags.SANITIZE_SETHYBRIDIZATION)"
   ]
  },
  {
   "cell_type": "code",
   "execution_count": 35,
   "metadata": {},
   "outputs": [
    {
     "name": "stdout",
     "output_type": "stream",
     "text": [
      "Sanitization successful.\n",
      "CC[N+](=O)[O-] \n",
      "\n"
     ]
    }
   ],
   "source": [
    "# (8) Set Hybridization (determine hybridization states)\n",
    "sanitize_molecule(mol, Chem.SanitizeFlags.SANITIZE_SETHYBRIDIZATION)"
   ]
  },
  {
   "cell_type": "code",
   "execution_count": 36,
   "metadata": {},
   "outputs": [
    {
     "name": "stdout",
     "output_type": "stream",
     "text": [
      "Sanitization successful.\n",
      "CC[N+](=O)[O-] \n",
      "\n"
     ]
    }
   ],
   "source": [
    "# (9) Cleanup Chirality (remove chiral tags from non-sp3 hybridized atoms)\n",
    "sanitize_molecule(mol, Chem.SanitizeFlags.SANITIZE_CLEANUPCHIRALITY)"
   ]
  },
  {
   "cell_type": "code",
   "execution_count": 37,
   "metadata": {},
   "outputs": [
    {
     "name": "stdout",
     "output_type": "stream",
     "text": [
      "Sanitization successful.\n",
      "CC[N+](=O)[O-] \n",
      "\n"
     ]
    }
   ],
   "source": [
    "# (10) Adjust Hydrogens (add explicit hydrogens where needed)\n",
    "sanitize_molecule(mol, Chem.SanitizeFlags.SANITIZE_ADJUSTHS)"
   ]
  },
  {
   "cell_type": "code",
   "execution_count": 38,
   "metadata": {},
   "outputs": [
    {
     "name": "stdout",
     "output_type": "stream",
     "text": [
      "Sanitization successful.\n",
      "CC[N+](=O)[O-] \n",
      "\n"
     ]
    }
   ],
   "source": [
    "# (11) Combination: Kekulize and Set Aromaticity\n",
    "sanitize_molecule(mol, Chem.SanitizeFlags.SANITIZE_KEKULIZE | Chem.SanitizeFlags.SANITIZE_SETAROMATICITY)"
   ]
  },
  {
   "cell_type": "code",
   "execution_count": 39,
   "metadata": {},
   "outputs": [
    {
     "name": "stdout",
     "output_type": "stream",
     "text": [
      "CC[N+](=O)[O-]\n"
     ]
    }
   ],
   "source": [
    "# Print the molecule to check the result\n",
    "print(Chem.MolToSmiles(mol))"
   ]
  }
 ],
 "metadata": {
  "kernelspec": {
   "display_name": "Python 3",
   "language": "python",
   "name": "python3"
  },
  "language_info": {
   "codemirror_mode": {
    "name": "ipython",
    "version": 3
   },
   "file_extension": ".py",
   "mimetype": "text/x-python",
   "name": "python",
   "nbconvert_exporter": "python",
   "pygments_lexer": "ipython3",
   "version": "3.12.4"
  }
 },
 "nbformat": 4,
 "nbformat_minor": 2
}
