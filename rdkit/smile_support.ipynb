{
 "cells": [
  {
   "cell_type": "code",
   "execution_count": 1,
   "metadata": {},
   "outputs": [],
   "source": [
    "from rdkit import Chem"
   ]
  },
  {
   "cell_type": "markdown",
   "metadata": {},
   "source": [
    "te (aromatic Te) is accepted. Here is an example with tellurophene-2-carboxylic acid:"
   ]
  },
  {
   "cell_type": "code",
   "execution_count": 2,
   "metadata": {},
   "outputs": [
    {
     "data": {
      "text/plain": [
       "True"
      ]
     },
     "execution_count": 2,
     "metadata": {},
     "output_type": "execute_result"
    }
   ],
   "source": [
    "m = Chem.MolFromSmiles('OC(=O)c1[te]ccc1')\n",
    "m.GetAtomWithIdx(4).GetIsAromatic()"
   ]
  },
  {
   "cell_type": "markdown",
   "metadata": {},
   "source": [
    "<- and -> create a dative bond between the atoms, direction does matter."
   ]
  },
  {
   "cell_type": "code",
   "execution_count": 7,
   "metadata": {},
   "outputs": [
    {
     "data": {
      "text/plain": [
       "'Cl[Cu]1(Cl)<-n2ccccc2-c2ccccn->12'"
      ]
     },
     "execution_count": 7,
     "metadata": {},
     "output_type": "execute_result"
    }
   ],
   "source": [
    "bipycu = Chem.MolFromSmiles('c1cccn->2c1-c1n->3cccc1.[Cu]23(Cl)Cl')\n",
    "bipycu.GetBondBetweenAtoms(4,12).GetBondType()\n",
    "Chem.rdchem.BondType.DATIVE\n",
    "Chem.MolToSmiles(bipycu)"
   ]
  },
  {
   "cell_type": "markdown",
   "metadata": {},
   "source": [
    "Dative bonds have the special characteristic that they don’t affect the valence on the start atom, but do affect the end atom. So in this case, the N atoms involved in the dative bond have the valence of 3 that we expect from bipy, while the Cu has a valence of 4:"
   ]
  },
  {
   "cell_type": "code",
   "execution_count": 9,
   "metadata": {},
   "outputs": [
    {
     "data": {
      "text/plain": [
       "3"
      ]
     },
     "execution_count": 9,
     "metadata": {},
     "output_type": "execute_result"
    }
   ],
   "source": [
    "bipycu.GetAtomWithIdx(4).GetTotalValence()"
   ]
  },
  {
   "cell_type": "code",
   "execution_count": 10,
   "metadata": {},
   "outputs": [
    {
     "data": {
      "text/plain": [
       "4"
      ]
     },
     "execution_count": 10,
     "metadata": {},
     "output_type": "execute_result"
    }
   ],
   "source": [
    "bipycu.GetAtomWithIdx(12).GetTotalValence()"
   ]
  },
  {
   "cell_type": "markdown",
   "metadata": {},
   "source": [
    "Ring closures\n",
    "\n",
    "%(N) notation is supported for ring closures, where N is a single digit %(N) up to five digits %(NNNNN). Here is an example"
   ]
  },
  {
   "cell_type": "code",
   "execution_count": 11,
   "metadata": {},
   "outputs": [
    {
     "data": {
      "text/plain": [
       "True"
      ]
     },
     "execution_count": 11,
     "metadata": {},
     "output_type": "execute_result"
    }
   ],
   "source": [
    "m = Chem.MolFromSmiles('C%(1000)OC%(1000)')\n",
    "m.GetAtomWithIdx(0).IsInRing()"
   ]
  },
  {
   "cell_type": "code",
   "execution_count": 12,
   "metadata": {},
   "outputs": [
    {
     "data": {
      "text/plain": [
       "True"
      ]
     },
     "execution_count": 12,
     "metadata": {},
     "output_type": "execute_result"
    }
   ],
   "source": [
    "m.GetAtomWithIdx(2).IsInRing()"
   ]
  },
  {
   "cell_type": "markdown",
   "metadata": {},
   "source": [
    "Specifying atoms by atomic number\n",
    "> The [#6] construct from SMARTS is supported in SMILES.\n",
    "\n",
    "Quadruple bonds\n",
    "> The token $ can be used to represent quadruple bonds in SMILES and SMARTS.\n",
    "\n",
    "CXSMILES/CXSMARTS extensions\n",
    "> The RDKit supports parsing and writing a subset of the extended SMILES/SMARTS functionality introduced by ChemAxon [4].\n",
    "\n",
    "The features which are parsed include:\n",
    "\n",
    "- atomic coordinates ()\n",
    "\n",
    "- atomic values $_AV:\n",
    "\n",
    "- atomic labels/aliases $ (recognized aliases are _AP, star_e, Q_e, QH_p, AH_P, X_p, XH_p, M_p, MH_p, *)\n",
    "\n",
    "- atomic properties atomprop\n",
    "\n",
    "- coordinate/dative bonds C (these are translated into dative bonds)\n",
    "\n",
    "- radicals ^\n",
    "\n",
    "- enhanced stereo (these are converted into StereoGroups)\n",
    "\n",
    "- linknodes LN\n",
    "\n",
    "- variable/multi-center attachments m\n",
    "\n",
    "- ring bond count specifications rb\n",
    "\n",
    "- non-hydrogen substitution count specifications s\n",
    "\n",
    "- unsaturation specification u\n",
    "\n",
    "- wedged bonds (only when atomic coordinates are present): wU, wD\n",
    "\n",
    "- wiggly bonds w\n",
    "\n",
    "- double bond stereo (only for ring bonds) c, t, ctu\n",
    "\n",
    "- SGroup Data SgD\n",
    "\n",
    "- polymer SGroups Sg\n",
    "\n",
    "- SGroup Hierarchy SgH\n",
    "\n",
    "The features which are written by :\n",
    "> rdkit.Chem.rdmolfiles.MolToCXSmiles()\n",
    "\n",
    ">  rdkit.Chem.rdmolfiles.MolToCXSmarts()\n",
    "\n",
    "Note the specialized writer functions include:\n",
    "\n",
    "- atomic coordinates\n",
    "\n",
    "- atomic values\n",
    "\n",
    "- atomic labels\n",
    "\n",
    "- atomic properties\n",
    "\n",
    "- dative bonds (only if dative bonds are not also being written to the SMILES/SMARTS)\n",
    "\n",
    "- radicals\n",
    "\n",
    "- enhanced stereo\n",
    "\n",
    "- linknodes\n",
    "\n",
    "- wedged bonds (only when atomic coordinates are also written)\n",
    "\n",
    "- wiggly bonds\n",
    "\n",
    "- double bond stereo (only for ring bonds)\n",
    "\n",
    "- SGroup Data\n",
    "\n",
    "- polymer SGroups\n",
    "\n",
    "- SGroup Hierarchy"
   ]
  },
  {
   "cell_type": "code",
   "execution_count": 14,
   "metadata": {},
   "outputs": [
    {
     "data": {
      "text/plain": [
       "'CO |$C2;O1$,atomProp:0.p1.5:0.p2.A1:1.p1.2|'"
      ]
     },
     "execution_count": 14,
     "metadata": {},
     "output_type": "execute_result"
    }
   ],
   "source": [
    "m = Chem.MolFromSmiles('OC')\n",
    "m.GetAtomWithIdx(0).SetProp('p1','2')\n",
    "m.GetAtomWithIdx(1).SetProp('p1','5')\n",
    "m.GetAtomWithIdx(1).SetProp('p2','A1')\n",
    "m.GetAtomWithIdx(0).SetProp('atomLabel','O1')\n",
    "m.GetAtomWithIdx(1).SetProp('atomLabel','C2')\n",
    "Chem.MolToCXSmiles(m)"
   ]
  },
  {
   "cell_type": "markdown",
   "metadata": {},
   "source": [
    "Reading molecule names\n",
    "\n",
    "If the SMILES/SMARTS and the optional CXSMILES extensions are followed by whitespace and another string, the SMILES/SMARTS parsers will interpret this as the molecule name"
   ]
  },
  {
   "cell_type": "code",
   "execution_count": 16,
   "metadata": {},
   "outputs": [
    {
     "data": {
      "text/plain": [
       "'carbon monoxide'"
      ]
     },
     "execution_count": 16,
     "metadata": {},
     "output_type": "execute_result"
    }
   ],
   "source": [
    "m = Chem.MolFromSmiles('CO carbon monoxide')\n",
    "m.GetProp('_Name')"
   ]
  },
  {
   "cell_type": "code",
   "execution_count": 17,
   "metadata": {},
   "outputs": [
    {
     "data": {
      "text/plain": [
       "'C2'"
      ]
     },
     "execution_count": 17,
     "metadata": {},
     "output_type": "execute_result"
    }
   ],
   "source": [
    "m2 = Chem.MolFromSmiles('CO |$C2;O1$| carbon monoxide')\n",
    "m2.GetAtomWithIdx(0).GetProp('atomLabel')"
   ]
  },
  {
   "cell_type": "code",
   "execution_count": 18,
   "metadata": {},
   "outputs": [
    {
     "data": {
      "text/plain": [
       "'carbon monoxide'"
      ]
     },
     "execution_count": 18,
     "metadata": {},
     "output_type": "execute_result"
    }
   ],
   "source": [
    "m2.GetProp('_Name')"
   ]
  },
  {
   "cell_type": "markdown",
   "metadata": {},
   "source": [
    "This can be disabled while still parsing the CXSMILES"
   ]
  },
  {
   "cell_type": "code",
   "execution_count": 19,
   "metadata": {},
   "outputs": [
    {
     "data": {
      "text/plain": [
       "0"
      ]
     },
     "execution_count": 19,
     "metadata": {},
     "output_type": "execute_result"
    }
   ],
   "source": [
    "ps = Chem.SmilesParserParams()\n",
    "ps.parseName = False\n",
    "m3 = Chem.MolFromSmiles('CO |$C2;O1$| carbon monoxide',ps)\n",
    "m3.HasProp('_Name')"
   ]
  },
  {
   "cell_type": "code",
   "execution_count": 20,
   "metadata": {},
   "outputs": [
    {
     "data": {
      "text/plain": [
       "'C2'"
      ]
     },
     "execution_count": 20,
     "metadata": {},
     "output_type": "execute_result"
    }
   ],
   "source": [
    "m3.GetAtomWithIdx(0).GetProp('atomLabel')"
   ]
  },
  {
   "cell_type": "markdown",
   "metadata": {},
   "source": [
    "Note that if we disable CXSMILES parsing but pass in a string which includes CXSMILES it will be interpreted as (part of) the name"
   ]
  },
  {
   "cell_type": "code",
   "execution_count": 21,
   "metadata": {},
   "outputs": [
    {
     "data": {
      "text/plain": [
       "'|$C2;O1$| carbon monoxide'"
      ]
     },
     "execution_count": 21,
     "metadata": {},
     "output_type": "execute_result"
    }
   ],
   "source": [
    "ps = Chem.SmilesParserParams()\n",
    "ps.allowCXSMILES = False\n",
    "m4 = Chem.MolFromSmiles('CO |$C2;O1$| carbon monoxide',ps)\n",
    "m4.GetProp('_Name')"
   ]
  },
  {
   "cell_type": "markdown",
   "metadata": {},
   "source": [
    "Finally, if you disable parsing of both CXSMILES and names, then extra text in the SMILES/SMARTS string will result in errors: .. doctest"
   ]
  },
  {
   "cell_type": "code",
   "execution_count": 22,
   "metadata": {},
   "outputs": [
    {
     "name": "stderr",
     "output_type": "stream",
     "text": [
      "[16:25:15] SMILES Parse Error: syntax error while parsing: CO |$C2;O1$| carbon monoxide\n",
      "[16:25:15] SMILES Parse Error: Failed parsing SMILES 'CO |$C2;O1$| carbon monoxide' for input: 'CO |$C2;O1$| carbon monoxide'\n"
     ]
    },
    {
     "data": {
      "text/plain": [
       "True"
      ]
     },
     "execution_count": 22,
     "metadata": {},
     "output_type": "execute_result"
    }
   ],
   "source": [
    "ps = Chem.SmilesParserParams()\n",
    "ps.allowCXSMILES = False\n",
    "ps.parseName = False\n",
    "m5 = Chem.MolFromSmiles('CO |$C2;O1$| carbon monoxide',ps)\n",
    "m5 is None"
   ]
  },
  {
   "cell_type": "code",
   "execution_count": 23,
   "metadata": {},
   "outputs": [
    {
     "name": "stderr",
     "output_type": "stream",
     "text": [
      "[16:25:53] SMILES Parse Error: syntax error while parsing: CO carbon monoxide\n",
      "[16:25:53] SMILES Parse Error: Failed parsing SMILES 'CO carbon monoxide' for input: 'CO carbon monoxide'\n"
     ]
    },
    {
     "data": {
      "text/plain": [
       "True"
      ]
     },
     "execution_count": 23,
     "metadata": {},
     "output_type": "execute_result"
    }
   ],
   "source": [
    "m5 = Chem.MolFromSmiles('CO carbon monoxide',ps)\n",
    "m5 is None"
   ]
  }
 ],
 "metadata": {
  "kernelspec": {
   "display_name": "Python 3",
   "language": "python",
   "name": "python3"
  },
  "language_info": {
   "codemirror_mode": {
    "name": "ipython",
    "version": 3
   },
   "file_extension": ".py",
   "mimetype": "text/x-python",
   "name": "python",
   "nbconvert_exporter": "python",
   "pygments_lexer": "ipython3",
   "version": "3.12.4"
  }
 },
 "nbformat": 4,
 "nbformat_minor": 2
}
