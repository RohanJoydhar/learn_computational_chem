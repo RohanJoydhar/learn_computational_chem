{
 "cells": [
  {
   "cell_type": "markdown",
   "metadata": {},
   "source": [
    "Filtering Molecular Datasets\n",
    ">Several sets of rules exist for estimating the likelihood of a molecule exhibiting drug-like behaviour. It’s worth noting that these are rules of thumb, and that many examples of approved small molecule drugs exist that disobey these rules."
   ]
  },
  {
   "cell_type": "markdown",
   "metadata": {},
   "source": [
    "Lipinski Rule of 5\n",
    "> Lipinski’s “Rule of 5” was introduced to estimate the oral bioavailability of molecules. Poor absorption is likely if the molecule violates more than one of the following conditions:\n",
    "- Molecular Weight <= 500 Da\n",
    "- No. Hydrogen Bond Donors <= 5\n",
    "- No. Hydrogen Bond Acceptors <= 10\n",
    "- LogP <= 5"
   ]
  },
  {
   "cell_type": "code",
   "execution_count": 4,
   "metadata": {},
   "outputs": [
    {
     "name": "stderr",
     "output_type": "stream",
     "text": [
      "<frozen importlib._bootstrap>:488: RuntimeWarning: to-Python converter for class boost::shared_ptr<class RDKit::FilterMatcherBase> already registered; second conversion method ignored.\n"
     ]
    }
   ],
   "source": [
    "from rdkit import Chem\n",
    "from rdkit.Chem import Descriptors\n",
    "from rdkit.Chem.FilterCatalog import FilterCatalog, FilterCatalogParams"
   ]
  },
  {
   "cell_type": "code",
   "execution_count": 3,
   "metadata": {},
   "outputs": [
    {
     "name": "stdout",
     "output_type": "stream",
     "text": [
      "True\n"
     ]
    }
   ],
   "source": [
    "mol = Chem.MolFromSmiles('CC(=O)Nc1ccc(O)cc1')  # e.g. Paracetamol\n",
    "#Ro5 descriptors\n",
    "MW = Descriptors.MolWt(mol)\n",
    "HBA = Descriptors.NOCount(mol)\n",
    "HBD = Descriptors.NHOHCount(mol)\n",
    "LogP = Descriptors.MolLogP(mol)\n",
    "conditions = [MW <= 500, HBA <= 10, HBD <= 5, LogP <= 5]\n",
    "pass_ro5 = conditions.count(True) >= 3\n",
    "print(pass_ro5)"
   ]
  },
  {
   "cell_type": "markdown",
   "metadata": {},
   "source": [
    "Filtering Unwanted Substructures\n",
    "> Pan Assay Interference Compounds (or PAINS) are molecules that display non-specific binding, leading to unwanted side effects and false-positives in virtual screening. Common PAINS motifs include toxoflavin, isothiazolones, hydroxyphenyl hydrazones, curcumin, phenolsulfonamides, rhodanines, enones, quinones, and catechols.\n",
    "\n",
    "> The Brenk filter removes molecules containing substructures with undesirable pharmacokinetics or toxicity. These include sulfates and phosphates that contribute to unfavourable pharmacokinetics, nitro groups which are mutagenic and 2-halopyridines and thiols which are both reactive.\n",
    "\n",
    ">The NIH filter defined a list of functional groups with undesirable properties. These are split into those with reactive functionalities (including Michael acceptors, aldehydes, epoxides, alkyl halides, metals, 2-halo pyridines, phosphorus nitrogen bonds, α-chloroketones and β-lactams) and medicinal chemistry exclusions (including oximes, crown ethers, hydrazines, flavanoids, polyphenols, primary halide sulfates and multiple nitro groups)."
   ]
  },
  {
   "cell_type": "code",
   "execution_count": 5,
   "metadata": {},
   "outputs": [
    {
     "data": {
      "text/plain": [
       "True"
      ]
     },
     "execution_count": 5,
     "metadata": {},
     "output_type": "execute_result"
    }
   ],
   "source": [
    "mol = Chem.MolFromSmiles('CC1=C(C=C(C=C1)N2C(=O)C(=C(N2)C)N=NC3=CC=CC(=C3O)C4=CC(=CC=C4)C(=O)O)C')  # e.g. Eltrombopag\n",
    "#PAINS flag\n",
    "params_pains = FilterCatalogParams()\n",
    "params_pains.AddCatalog(FilterCatalogParams.FilterCatalogs.PAINS_A)"
   ]
  },
  {
   "cell_type": "code",
   "execution_count": 6,
   "metadata": {},
   "outputs": [
    {
     "name": "stdout",
     "output_type": "stream",
     "text": [
      "PAINs:  True\n"
     ]
    }
   ],
   "source": [
    "catalog_pains = FilterCatalog(params_pains)\n",
    "flag = catalog_pains.HasMatch(mol)  # Checks if there is a matching PAINS\n",
    "print(\"PAINs: \", flag)"
   ]
  },
  {
   "cell_type": "code",
   "execution_count": 7,
   "metadata": {},
   "outputs": [
    {
     "data": {
      "text/plain": [
       "True"
      ]
     },
     "execution_count": 7,
     "metadata": {},
     "output_type": "execute_result"
    }
   ],
   "source": [
    "# Brenk Flag\n",
    "params_unwanted = FilterCatalogParams()\n",
    "params_unwanted.AddCatalog(FilterCatalogParams.FilterCatalogs.BRENK)"
   ]
  },
  {
   "cell_type": "code",
   "execution_count": 8,
   "metadata": {},
   "outputs": [
    {
     "name": "stdout",
     "output_type": "stream",
     "text": [
      "Brenk:  True\n"
     ]
    }
   ],
   "source": [
    "catalog_unwanted = FilterCatalog(params_unwanted)\n",
    "flag = catalog_unwanted.HasMatch(mol)  # Checks if there is a matching unwanted substructure\n",
    "print(\"Brenk: \", flag)"
   ]
  },
  {
   "cell_type": "code",
   "execution_count": 9,
   "metadata": {},
   "outputs": [
    {
     "data": {
      "text/plain": [
       "True"
      ]
     },
     "execution_count": 9,
     "metadata": {},
     "output_type": "execute_result"
    }
   ],
   "source": [
    "# NIH Flag\n",
    "params_nih = FilterCatalogParams()\n",
    "params_nih.AddCatalog(FilterCatalogParams.FilterCatalogs.NIH)"
   ]
  },
  {
   "cell_type": "code",
   "execution_count": 10,
   "metadata": {},
   "outputs": [
    {
     "name": "stdout",
     "output_type": "stream",
     "text": [
      "NIH:  True\n"
     ]
    }
   ],
   "source": [
    "catalog_nih = FilterCatalog(params_nih)\n",
    "flag = catalog_nih.HasMatch(mol)  # Checks if there is a matching NIH\n",
    "print(\"NIH: \", flag)"
   ]
  },
  {
   "cell_type": "markdown",
   "metadata": {},
   "source": [
    "All of the available filters can also be considered at once. Additional information such as the class and description of the unwanted substructures can be obtained using the FilterCatalogEntry object"
   ]
  },
  {
   "cell_type": "code",
   "execution_count": 11,
   "metadata": {},
   "outputs": [
    {
     "data": {
      "text/plain": [
       "True"
      ]
     },
     "execution_count": 11,
     "metadata": {},
     "output_type": "execute_result"
    }
   ],
   "source": [
    "mol = Chem.MolFromSmiles('CC1=C(C=C(C=C1)N2C(=O)C(=C(N2)C)N=NC3=CC=CC(=C3O)C4=CC(=CC=C4)C(=O)O)C')  # e.g. Eltrombopag\n",
    "\n",
    "# ALL Filters\n",
    "params_all = FilterCatalogParams()\n",
    "params_all.AddCatalog(FilterCatalogParams.FilterCatalogs.ALL)"
   ]
  },
  {
   "cell_type": "code",
   "execution_count": 12,
   "metadata": {},
   "outputs": [
    {
     "name": "stdout",
     "output_type": "stream",
     "text": [
      "['PAINS_A', 'Brenk', 'NIH', 'ChEMBL23_Dundee', 'ChEMBL23_BMS', 'ChEMBL23_MLSMR', 'ChEMBL23_Inpharmatica', 'ChEMBL23_LINT']\n"
     ]
    }
   ],
   "source": [
    "catalog_all = FilterCatalog(params_all)\n",
    "print([entry.GetProp('FilterSet') for entry in catalog_all.GetMatches(mol)])"
   ]
  },
  {
   "cell_type": "code",
   "execution_count": 13,
   "metadata": {},
   "outputs": [
    {
     "name": "stdout",
     "output_type": "stream",
     "text": [
      "['azo_A(324)', 'diazo_group', 'azo_aryl', 'diazo group', 'azo_aryl', 'Azo', 'Filter5_azo', 'acyclic N-,=N and not N bound to carbonyl or sulfone']\n"
     ]
    }
   ],
   "source": [
    "print([entry.GetDescription() for entry in catalog_all.GetMatches(mol)])"
   ]
  }
 ],
 "metadata": {
  "kernelspec": {
   "display_name": "Python 3",
   "language": "python",
   "name": "python3"
  },
  "language_info": {
   "codemirror_mode": {
    "name": "ipython",
    "version": 3
   },
   "file_extension": ".py",
   "mimetype": "text/x-python",
   "name": "python",
   "nbconvert_exporter": "python",
   "pygments_lexer": "ipython3",
   "version": "3.12.4"
  }
 },
 "nbformat": 4,
 "nbformat_minor": 2
}
